{
 "cells": [
  {
   "cell_type": "markdown",
   "metadata": {},
   "source": [
    "### Homework 1 ###"
   ]
  },
  {
   "cell_type": "markdown",
   "metadata": {},
   "source": [
    "<hr>"
   ]
  },
  {
   "cell_type": "code",
   "execution_count": null,
   "metadata": {},
   "outputs": [],
   "source": [
    "import numpy as np\n",
    "import matplotlib.pyplot as plt"
   ]
  },
  {
   "cell_type": "markdown",
   "metadata": {},
   "source": [
    "### Exercise 1 ###"
   ]
  },
  {
   "cell_type": "markdown",
   "metadata": {},
   "source": [
    "#### Rounding error ####\n",
    "\n",
    "Given $a=1$, $b=100000$, $c=10^n$ where $n=-1,-2,...,8$ we can find both roots of the polynomial:\n",
    "\n",
    "$$ax^2+bx+c$$\n",
    "\n",
    "by solving \n",
    "\n",
    "$$x_1 = \\frac{-b+\\sqrt{b^2-4ac}}{2a} $$\n",
    "$$x_2 = \\frac{-b-\\sqrt{b^2-4ac}}{2a} $$\n",
    "\n",
    "Denote $x^n_1, x_2^n$ the corresponding root using $c^n$. Note that as $n$ grows the term in the square brakets tends to $b^2$, since $4ac\\to 0$. Althought it might be true in the limit, is not true that for $n=7$ or even $n=8$, but thats not what we obtain when we solve for this roots numerically. The reason behind this is the machine accuracy $\\epsilon_m$. Following Numerical recipes in Fortran 77:\n",
    "\n",
    " \"Pretty much any arithmetic operation among floating numbers should be thought of as introducing an addittional fractional error of at least $\\epsilon$. This type of error is called roundoff error.\"[...]\"Roudnoff errors accumulate with increasing amounts of calculations\".[...]\" Substraction of two nearly equal numbers can vastly increase the roundoff error.\"\n",
    "\n",
    " Note that starting at $n=7$ both roots don't seem to take the term $4ac$ into account, when computing the square root of $b^2$. Starting from that $n$ onwards, the roundoff error makes governs the results for the numerical roots.\n",
    "\n",
    "<center>\n",
    "\n",
    "| $n$  |$x_1$ |   $x_2$ |\n",
    "| --- | --- | --- |\n",
    "| 1 | -1.0000003385e-06 | -99999.999999\n",
    "| 2 | -1.0000076145e-07  |-99999.9999999    \n",
    "| 3 | -9.9971657619e-09  |-99999.99999999   \n",
    "| 4 | -1.0040821508e-09  |-99999.999999999  \n",
    "| 5 | -1.0186340660e-10  |-99999.9999999999 \n",
    "| 6 | -7.2759576142e-12  |-100000.          \n",
    "| 7 | 0.0000000000e+00   |-100000.          \n",
    "| 8 | 0.0000000000e+00  | -100000.  \n",
    "\n",
    "</center>\n"
   ]
  },
  {
   "cell_type": "code",
   "execution_count": null,
   "metadata": {},
   "outputs": [],
   "source": [
    "class Exercise_1:\n",
    "    def __init__(self, a, b, c):\n",
    "        self.a = a\n",
    "        self.b = b\n",
    "        self.c = c\n",
    "    def Method_1(self):\n",
    "        self.r_1 = (-self.b + np.sqrt(self.b**2 - 4 * self.a * self.c))  / (2)\n",
    "        self.r_2 = (-self.b - np.sqrt(self.b**2 - 4 * self.a * self.c))  / (2)\n",
    "        "
   ]
  },
  {
   "cell_type": "code",
   "execution_count": null,
   "metadata": {},
   "outputs": [],
   "source": [
    "a, b, c = np.ones(8), 100000 * np.ones(8), (10 *np.ones(8)) ** np.linspace(-1, -8, 8, dtype=int)\n",
    "Ex1 = Exercise_1(a, b, c)\n",
    "Ex1.Method_1()\n",
    "Ex1.r_1, Ex1.r_2"
   ]
  },
  {
   "cell_type": "markdown",
   "metadata": {},
   "source": [
    "<hr>"
   ]
  },
  {
   "cell_type": "markdown",
   "metadata": {},
   "source": [
    "### Exercise 2 ###"
   ]
  },
  {
   "cell_type": "markdown",
   "metadata": {},
   "source": [
    "Prosition: $\\phi^n+1=\\phi^n-1-\\phi^n$ for $\\phi=\\frac{\\sqrt{5}-1}{2}$.\n",
    "\n",
    "Proof: $$   \\phi^{n+_1}=\\phi^n-1-\\phi^n $$\n",
    "        $$   \\left(\\frac{\\sqrt{5}-1}{2}\\right)^{n+_1}=\\left(\\frac{\\sqrt{5}-1}{2}\\right)^n-1-\\left(\\frac{\\sqrt{5}-1}{2}\\right)^n $$\n",
    "        $$ \\left(\\frac{\\sqrt{5}-1}{2}\\right) \\left(\\frac{\\sqrt{5}-1}{2}\\right)^n = \\left(\\frac{\\sqrt{5}-1}{2}\\right)^{n-1} -\\left(\\frac{\\sqrt{5}-1}{2}\\right)^n$$\n",
    "        $$ \\left(\\frac{\\sqrt{5}-1}{2}\\right)  = \\left(\\frac{\\sqrt{5}-1}{2}\\right)^{-1} -1$$\n",
    "        $$ \\left(\\frac{\\sqrt{5}-1}{2}\\right)  = \\left(\\frac{2}{\\sqrt{5}-1}\\right)^{-1} -1$$\n",
    "        $$ 0  = 0$$\n",
    "\n",
    "\n",
    "Following Numerical recipies in Fortran 77:\n",
    "\n",
    "\"There is another, different, kind of error that is a characteristic of the program or algorithm used,\n",
    "independent of the hardware on which the program is executed.\"[...]\"The discrepancy between the true answer and the answer obtained in a practical\n",
    "calculation is called the truncation error. Truncation error would persist even on a hypothetical, “perfect” computer that had an infinitely accurate representation and no\n",
    "roundoff error.\"[...]\"Sometimes, however, an otherwise attractive method can be unstable. This means that any roundoff error that becomes “mixed into” the calculation at an early\n",
    "stage is successively magnified until it comes to swamp the true answer. An unstable method would be useful on a hypothetical, perfect computer; but in this imperfect\n",
    "world it is necessary for us to require that algorithms be stable — or if unstable that we use them with great caution.\"\n",
    "\n",
    "The example computed below shows a clear example of an unstable vs a stable algorithm. We construct 2 sequences for $\\{\\psi^n\\}$, following the two methods proposed in the exercise. We clearly see that when using the unstable algorithm the sequence diverges from its limit point. \n",
    "\n"
   ]
  },
  {
   "cell_type": "code",
   "execution_count": null,
   "metadata": {},
   "outputs": [],
   "source": [
    "class Exercise2:\n",
    "    def __init__(self, n):\n",
    "        self.n = n\n",
    "        self.ϕ = np.ones(n)\n",
    "        self.ϕ[0] = 0\n",
    "        self.ϕ[1] = 0.61803398\n",
    "        self.ψ = self.ϕ.copy()\n",
    "        for i in range(2, self.n-2, 1):\n",
    "            self.ϕ[i+2] = self.ϕ[i] - self.ϕ[i+1]\n",
    "            self.ψ[i+2] = self.ψ[1]**(i+2)\n",
    "\n",
    "    def plot(self):\n",
    "        fig, ax = plt.subplots(figsize=(20, 3))\n",
    "        grid = range(0, self.n, 1)\n",
    "        plt.plot(grid, self.ϕ, label='$\\phi^n_{Algorithm}$', alpha=0.6)\n",
    "        plt.plot(grid, self.ψ, label='$\\phi^n_{Raising}$', alpha=0.6)\n",
    "        plt.xlabel('n')\n",
    "        plt.title('Comparison for different algorithms')\n",
    "        plt.xticks(grid)\n",
    "        plt.legend()\n",
    "        plt.show()"
   ]
  },
  {
   "cell_type": "code",
   "execution_count": null,
   "metadata": {},
   "outputs": [],
   "source": [
    "Ex2 = Exercise2(100)\n",
    "Ex2.plot()"
   ]
  },
  {
   "cell_type": "markdown",
   "metadata": {},
   "source": [
    "<hr>"
   ]
  },
  {
   "cell_type": "markdown",
   "metadata": {},
   "source": [
    "### Exercise 3 ###"
   ]
  },
  {
   "cell_type": "code",
   "execution_count": 1,
   "metadata": {},
   "outputs": [],
   "source": [
    "import numpy as np\n",
    "import numba \n",
    "from numba import jit, float64\n",
    "import matplotlib.pyplot as plt"
   ]
  },
  {
   "cell_type": "code",
   "execution_count": 100,
   "metadata": {},
   "outputs": [
    {
     "data": {
      "text/plain": [
       "array([[0.28697696],\n",
       "       [0.34205335],\n",
       "       [0.39712974],\n",
       "       [0.45220613],\n",
       "       [0.50728251],\n",
       "       [0.5623589 ],\n",
       "       [0.61743529],\n",
       "       [0.67251167],\n",
       "       [0.72758806],\n",
       "       [0.78266445],\n",
       "       [0.83774084],\n",
       "       [0.89281722],\n",
       "       [0.94789361],\n",
       "       [1.00297   ],\n",
       "       [1.05804639],\n",
       "       [1.11312277],\n",
       "       [1.16819916],\n",
       "       [1.22327555],\n",
       "       [1.27835193],\n",
       "       [1.33342832],\n",
       "       [1.38850471],\n",
       "       [1.4435811 ],\n",
       "       [1.49865748],\n",
       "       [1.55373387],\n",
       "       [1.60881026],\n",
       "       [1.66388664],\n",
       "       [1.71896303],\n",
       "       [1.77403942],\n",
       "       [1.82911581],\n",
       "       [1.88419219],\n",
       "       [1.93926858],\n",
       "       [1.99434497],\n",
       "       [2.04942135],\n",
       "       [2.10449774],\n",
       "       [2.15957413],\n",
       "       [2.21465052],\n",
       "       [2.2697269 ],\n",
       "       [2.32480329],\n",
       "       [2.37987968],\n",
       "       [2.43495606],\n",
       "       [2.49003245],\n",
       "       [2.54510884],\n",
       "       [2.60018523],\n",
       "       [2.65526161],\n",
       "       [2.710338  ],\n",
       "       [2.76541439],\n",
       "       [2.82049077],\n",
       "       [2.87556716],\n",
       "       [2.93064355],\n",
       "       [2.98571994],\n",
       "       [3.04079632],\n",
       "       [3.09587271],\n",
       "       [3.1509491 ],\n",
       "       [3.20602548],\n",
       "       [3.26110187],\n",
       "       [3.31617826],\n",
       "       [3.37125465],\n",
       "       [3.42633103],\n",
       "       [3.48140742],\n",
       "       [3.53648381],\n",
       "       [3.5915602 ],\n",
       "       [3.64663658],\n",
       "       [3.70171297],\n",
       "       [3.75678936],\n",
       "       [3.81186574],\n",
       "       [3.86694213],\n",
       "       [3.92201852],\n",
       "       [3.97709491],\n",
       "       [4.03217129],\n",
       "       [4.08724768],\n",
       "       [4.14232407],\n",
       "       [4.19740045],\n",
       "       [4.25247684],\n",
       "       [4.30755323],\n",
       "       [4.36262962],\n",
       "       [4.417706  ],\n",
       "       [4.47278239],\n",
       "       [4.52785878],\n",
       "       [4.58293516],\n",
       "       [4.63801155],\n",
       "       [4.69308794],\n",
       "       [4.74816433],\n",
       "       [4.80324071],\n",
       "       [4.8583171 ],\n",
       "       [4.91339349],\n",
       "       [4.96846987],\n",
       "       [5.02354626],\n",
       "       [5.07862265],\n",
       "       [5.13369904],\n",
       "       [5.18877542],\n",
       "       [5.24385181],\n",
       "       [5.2989282 ],\n",
       "       [5.35400458],\n",
       "       [5.40908097],\n",
       "       [5.46415736],\n",
       "       [5.51923375],\n",
       "       [5.57431013],\n",
       "       [5.62938652],\n",
       "       [5.68446291],\n",
       "       [5.73953929]])"
      ]
     },
     "execution_count": 100,
     "metadata": {},
     "output_type": "execute_result"
    }
   ],
   "source": [
    "n_k = 100\n",
    "β = 0.98\n",
    "A = 2\n",
    "δ = 1\n",
    "α = 0.7\n",
    "k_ss = ((α * β * A)/(1 - (1-δ)*β))**(1/(1-α))\n",
    "V_0 = np.zeros([n_k,1])\n",
    "K = np.linspace(k_ss/10, k_ss*2, n_k).reshape((n_k, 1))\n",
    "K"
   ]
  },
  {
   "cell_type": "code",
   "execution_count": 101,
   "metadata": {},
   "outputs": [],
   "source": [
    "#This function defines the sup norm.\n",
    "@jit\n",
    "def error(x,y):\n",
    "    return np.max(np.abs(x-y))\n",
    "\n",
    "#This function defines the bellman operator.\n",
    "   #Value functions shoud be column vectors.\n",
    "    #K is given in Columns.\n",
    "     #K' is given in rows. \n",
    "\n",
    "def update(V_0):\n",
    "    #print(U(A * K**α + (1-δ) * K - K.T) + β * V_0.T)\n",
    "    V_1 = np.max(U(A * K**α + (1-δ) * K - K.T) + β * V_0.T, axis=1)\n",
    "    return V_1\n",
    "\n",
    "#This function defines the Utility function.\n",
    "@jit\n",
    "def U(c):\n",
    "    if (c>=0).all()>0.0001:\n",
    "        return np.log(c)\n",
    "    else:\n",
    "        #print(c)\n",
    "        return np.where(c <= 0, -10e10, np.log(c))\n",
    "         "
   ]
  },
  {
   "cell_type": "code",
   "execution_count": 102,
   "metadata": {},
   "outputs": [],
   "source": [
    "def iteration(V_0, max_iter):\n",
    "    V_1 = np.ones((n_k,1))\n",
    "    iter = 1\n",
    "    while error(V_1,V_0) > 10e-5:\n",
    "        V_0 = V_1.copy()\n",
    "        V_1 = update(V_0).copy()\n",
    "        iter += 1\n",
    "        if iter > max_iter:\n",
    "            print(\"No Convergence\")\n",
    "            break\n",
    "    if iter < max_iter:\n",
    "        print(\"Convergence achieved\")\n",
    "        h = np.argmax(U(A * K**α + (1-δ) * K - K.T) + β * V_1.T, axis=1)\n",
    "        return V_1, h"
   ]
  },
  {
   "cell_type": "code",
   "execution_count": 103,
   "metadata": {},
   "outputs": [
    {
     "name": "stdout",
     "output_type": "stream",
     "text": [
      "Convergence achieved\n"
     ]
    },
    {
     "data": {
      "image/png": "[encoded data removed]",
      "text/plain": [
       "<Figure size 432x288 with 1 Axes>"
      ]
     },
     "metadata": {
      "needs_background": "light"
     },
     "output_type": "display_data"
    }
   ],
   "source": [
    "fig, ax = plt.subplots()\n",
    "plt.scatter(K, iteration(V_0, 1000)[0], label='$V(k)$', alpha=0.6)\n",
    "plt.xlabel('K')\n",
    "plt.legend()\n",
    "plt.show()"
   ]
  },
  {
   "cell_type": "code",
   "execution_count": 65,
   "metadata": {},
   "outputs": [
    {
     "name": "stdout",
     "output_type": "stream",
     "text": [
      "Convergence achieved\n"
     ]
    },
    {
     "data": {
      "image/png": "[encoded data removed]",
      "text/plain": [
       "<Figure size 432x288 with 1 Axes>"
      ]
     },
     "metadata": {
      "needs_background": "light"
     },
     "output_type": "display_data"
    },
    {
     "data": {
      "text/plain": [
       "2.869769647472505"
      ]
     },
     "execution_count": 65,
     "metadata": {},
     "output_type": "execute_result"
    }
   ],
   "source": [
    "fig, ax = plt.subplots()\n",
    "plt.scatter(K, K[iteration(V_0, 1000)[1]], label='$K^{prime}$', alpha=0.6)\n",
    "plt.scatter(K, K, label='$K^{prime}$', alpha=0.6)\n",
    "plt.xlabel('K')\n",
    "plt.legend()\n",
    "plt.show()\n",
    "k_ss"
   ]
  },
  {
   "cell_type": "code",
   "execution_count": 104,
   "metadata": {},
   "outputs": [
    {
     "name": "stdout",
     "output_type": "stream",
     "text": [
      "Convergence achieved\n"
     ]
    },
    {
     "data": {
      "text/plain": [
       "(array([ 8.49273864,  8.88274235,  9.22034941,  9.50977382,  9.76481926,\n",
       "         9.99345739, 10.20322084, 10.39519012, 10.57059803, 10.73274122,\n",
       "        10.88417789, 11.02623516, 11.16019819, 11.28685046, 11.40653571,\n",
       "        11.51908108, 11.62595783, 11.72837772, 11.8266337 , 11.92121387,\n",
       "        12.01226689, 12.09962074, 12.18267303, 12.26236108, 12.33969505,\n",
       "        12.41498934, 12.48823775, 12.55912799, 12.62692634, 12.69248495,\n",
       "        12.75674279, 12.81955733, 12.88078867, 12.93963567, 12.9969207 ,\n",
       "        13.05317472, 13.10838486, 13.16170424, 13.21366865, 13.26501147,\n",
       "        13.31484919, 13.36371075, 13.411325  , 13.45828686, 13.50406076,\n",
       "        13.54891828, 13.59312727, 13.63695242, 13.67870168, 13.72006491,\n",
       "        13.76082538, 13.80077616, 13.83997292, 13.87872313, 13.91653751,\n",
       "        13.95372394, 13.99075506, 14.02669022, 14.06210082, 14.09712512,\n",
       "        14.13183332, 14.16566428, 14.1990444 , 14.23175903, 14.26417616,\n",
       "        14.2962927 , 14.32795855, 14.35910325, 14.38971892, 14.41976077,\n",
       "        14.4497546 , 14.47897837, 14.50795302, 14.53673448, 14.56510284,\n",
       "        14.59311156, 14.62090618, 14.64807741, 14.67520241, 14.70173924,\n",
       "        14.72805156, 14.75391989, 14.77963781, 14.80519483, 14.83006453,\n",
       "        14.85491105, 14.8794506 , 14.90370497, 14.92789976, 14.9516733 ,\n",
       "        14.9752411 , 14.99859212, 15.02164357, 15.04464434, 15.06706014,\n",
       "        15.08946583, 15.11174169, 15.13365619, 15.15530254, 15.17671565]),\n",
       " array([ 5,  7,  8,  9, 10, 11, 13, 14, 15, 16, 17, 18, 19, 20, 21, 22, 22,\n",
       "        23, 24, 25, 26, 27, 28, 29, 30, 30, 31, 32, 33, 34, 34, 35, 36, 37,\n",
       "        37, 38, 39, 40, 41, 41, 42, 43, 43, 44, 45, 46, 47, 47, 47, 48, 49,\n",
       "        50, 50, 51, 52, 52, 53, 54, 54, 55, 56, 56, 57, 58, 58, 59, 60, 60,\n",
       "        61, 62, 62, 63, 63, 64, 65, 65, 66, 67, 67, 68, 68, 69, 70, 70, 71,\n",
       "        71, 72, 73, 73, 74, 74, 75, 76, 76, 76, 77, 78, 78, 79, 79],\n",
       "       dtype=int64))"
      ]
     },
     "execution_count": 104,
     "metadata": {},
     "output_type": "execute_result"
    }
   ],
   "source": [
    "iteration(V_0, 10000)"
   ]
  },
  {
   "cell_type": "markdown",
   "metadata": {},
   "source": [
    "Howards Steps"
   ]
  },
  {
   "cell_type": "code",
   "execution_count": 126,
   "metadata": {},
   "outputs": [],
   "source": [
    "def Howard_update(V_0, m):\n",
    "    #print(U(A * K**α + (1-δ) * K - K.T) + β * V_0.T)\n",
    "    print(U(A * K**α + (1-δ) * K - K.T) + β * V_0.T)\n",
    "    K_h = K[np.argmax(U(A * K**α + (1-δ) * K - K.T) + β * V_0.T, axis=1)]\n",
    "    #for i in range(m):\n",
    "        #Howards iteration\n",
    "    K_h\n",
    "    V_1 = U(A * K**α + (1-δ) * K - K_h) + β * V_0\n",
    "    #V_0 = V_1.copy()\n",
    "    return V_1\n",
    "\n",
    "def update(V_0):\n",
    "    print(U(A * K**α + (1-δ) * K - K.T) + β * V_0.T)\n",
    "    U(A * K**α + (1-δ) * K - K.T) + β * V_0.T\n",
    "    V_1 = np.max(U(A * K**α + (1-δ) * K - K.T) + β * V_0.T, axis=1)\n",
    "    return V_1\n"
   ]
  },
  {
   "cell_type": "code",
   "execution_count": 128,
   "metadata": {},
   "outputs": [
    {
     "name": "stdout",
     "output_type": "stream",
     "text": [
      "[[-6.02011817e-01 -7.07992326e-01 -8.26550895e-01 ... -1.00000000e+11\n",
      "  -1.00000000e+11 -1.00000000e+11]\n",
      " [-4.20288645e-01 -5.07862008e-01 -6.03846989e-01 ... -1.00000000e+11\n",
      "  -1.00000000e+11 -1.00000000e+11]\n",
      " [-2.73340890e-01 -3.48484299e-01 -4.29736374e-01 ... -1.00000000e+11\n",
      "  -1.00000000e+11 -1.00000000e+11]\n",
      " ...\n",
      " [ 1.85899938e+00  1.85037987e+00  1.84168542e+00 ...  7.22301824e-02\n",
      "   1.96323698e-02 -3.58863149e-02]\n",
      " [ 1.86611840e+00  1.85756030e+00  1.84892832e+00 ...  1.13998729e-01\n",
      "   6.36077570e-02  1.05421619e-02]\n",
      " [ 1.87316665e+00  1.86466891e+00  1.85609834e+00 ...  1.53978312e-01\n",
      "   1.05610765e-01  5.47843662e-02]]\n",
      "[[-6.02011817e-01 -7.07992326e-01 -8.26550895e-01 ... -1.00000000e+11\n",
      "  -1.00000000e+11 -1.00000000e+11]\n",
      " [-4.20288645e-01 -5.07862008e-01 -6.03846989e-01 ... -1.00000000e+11\n",
      "  -1.00000000e+11 -1.00000000e+11]\n",
      " [-2.73340890e-01 -3.48484299e-01 -4.29736374e-01 ... -1.00000000e+11\n",
      "  -1.00000000e+11 -1.00000000e+11]\n",
      " ...\n",
      " [ 1.85899938e+00  1.85037987e+00  1.84168542e+00 ...  7.22301824e-02\n",
      "   1.96323698e-02 -3.58863149e-02]\n",
      " [ 1.86611840e+00  1.85756030e+00  1.84892832e+00 ...  1.13998729e-01\n",
      "   6.36077570e-02  1.05421619e-02]\n",
      " [ 1.87316665e+00  1.86466891e+00  1.85609834e+00 ...  1.53978312e-01\n",
      "   1.05610765e-01  5.47843662e-02]]\n"
     ]
    },
    {
     "data": {
      "text/plain": [
       "array([[ 0.        , -0.18172317, -0.32867093, ..., -2.4610112 ,\n",
       "        -2.46813022, -2.47517847],\n",
       "       [ 0.18172317,  0.        , -0.14694775, ..., -2.27928803,\n",
       "        -2.28640705, -2.2934553 ],\n",
       "       [ 0.32867093,  0.14694775,  0.        , ..., -2.13234027,\n",
       "        -2.13945929, -2.14650754],\n",
       "       ...,\n",
       "       [ 2.4610112 ,  2.27928803,  2.13234027, ...,  0.        ,\n",
       "        -0.00711902, -0.01416727],\n",
       "       [ 2.46813022,  2.28640705,  2.13945929, ...,  0.00711902,\n",
       "         0.        , -0.00704825],\n",
       "       [ 2.47517847,  2.2934553 ,  2.14650754, ...,  0.01416727,\n",
       "         0.00704825,  0.        ]])"
      ]
     },
     "execution_count": 128,
     "metadata": {},
     "output_type": "execute_result"
    }
   ],
   "source": [
    "Howard_update(V_0, 1)- update(V_0)"
   ]
  },
  {
   "cell_type": "code",
   "execution_count": 109,
   "metadata": {},
   "outputs": [],
   "source": [
    "def iteration_howards(V_0, max_iter):\n",
    "    V_1 = np.ones((n_k,1))\n",
    "    iter = 1\n",
    "    while error(V_1,V_0) > 10e-5:\n",
    "        V_0 = V_1.copy()\n",
    "        print(V_0)\n",
    "        V_1 = Howard_update(V_0, 1).copy()\n",
    "        iter += 1\n",
    "        if iter > max_iter:\n",
    "            print(\"No Convergence\")\n",
    "            break\n",
    "    if iter < max_iter:\n",
    "        print(\"Convergence achieved\")\n",
    "        h = np.argmax(U(A * K**α + (1-δ) * K - K.T) + β * V_1.T, axis=1)\n",
    "        return V_1, h"
   ]
  }
 ],
 "metadata": {
  "kernelspec": {
   "display_name": "Python 3.9.12 ('base')",
   "language": "python",
   "name": "python3"
  },
  "language_info": {
   "codemirror_mode": {
    "name": "ipython",
    "version": 3
   },
   "file_extension": ".py",
   "mimetype": "text/x-python",
   "name": "python",
   "nbconvert_exporter": "python",
   "pygments_lexer": "ipython3",
   "version": "3.9.12"
  },
  "orig_nbformat": 4,
  "vscode": {
   "interpreter": {
    "hash": "b69a4b02e7947e52e6ad2ba4161a8d75302f9e0e4230d8a535486fa2ac92da57"
   }
  }
 },
 "nbformat": 4,
 "nbformat_minor": 2
}
