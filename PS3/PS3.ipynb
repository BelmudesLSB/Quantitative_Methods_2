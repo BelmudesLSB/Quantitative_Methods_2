{
 "cells": [
  {
   "cell_type": "markdown",
   "metadata": {},
   "source": [
    "Exercise 1 and 2:\n"
   ]
  },
  {
   "cell_type": "code",
   "execution_count": 142,
   "metadata": {},
   "outputs": [],
   "source": [
    "import numpy as np\n",
    "import matplotlib.pyplot as plt\n",
    "import scipy\n",
    "from scipy import optimize"
   ]
  },
  {
   "cell_type": "markdown",
   "metadata": {},
   "source": [
    "Use one-sided finite differences to compute an approximation to the first derivative of $g(p)=$ $0.5 p^{-0.5}+0.5 p^{-0.2}$ at $p=1.5$. Let the increment $\\epsilon$ in the finite differences range across all the values in the set $\\left\\{10^{-1}, 10^{-2}, \\ldots, 10^{-10}\\right\\}$. For which value of $\\epsilon$ the approximate first derivative the most accurate? Repeat the third problem using two-sided finite differences to approximate the first derivative"
   ]
  },
  {
   "cell_type": "code",
   "execution_count": 86,
   "metadata": {},
   "outputs": [],
   "source": [
    "def g(p):\n",
    "    return 0.5*p**(-0.5) + 0.5*p**(-0.2)"
   ]
  },
  {
   "cell_type": "code",
   "execution_count": 87,
   "metadata": {},
   "outputs": [],
   "source": [
    "def OSD(p, Δ):\n",
    "    return (g(p+Δ) - g(p))/ Δ "
   ]
  },
  {
   "cell_type": "code",
   "execution_count": 88,
   "metadata": {},
   "outputs": [],
   "source": [
    "def TSD(p, Δ):\n",
    "    return (g(p+Δ) - g(p-Δ))/ (2*Δ) "
   ]
  },
  {
   "cell_type": "code",
   "execution_count": 89,
   "metadata": {},
   "outputs": [],
   "source": [
    "OSD = np.vectorize(OSD)\n",
    "TSD = np.vectorize(TSD)"
   ]
  },
  {
   "cell_type": "code",
   "execution_count": 90,
   "metadata": {},
   "outputs": [],
   "source": [
    "ϵ= 10**(-1* np.linspace(1,10,10))\n",
    "p_point = np.linspace(1,1,10) * 1.5\n",
    "truth = -(0.5**2) * 1.5**(-1.5) - 0.5 * 0.2 * 1.5**(-1.2)"
   ]
  },
  {
   "cell_type": "code",
   "execution_count": 91,
   "metadata": {},
   "outputs": [],
   "source": [
    "error_OSD = OSD(p_point, ϵ) - truth\n",
    "error_TSD = TSD(p_point, ϵ) - truth"
   ]
  },
  {
   "cell_type": "code",
   "execution_count": 92,
   "metadata": {},
   "outputs": [
    {
     "data": {
      "text/plain": [
       "(array([8.79174498e-03, 9.21355323e-04, 9.25811321e-05, 9.26259451e-06,\n",
       "        9.26308407e-07, 9.26752449e-08, 9.85260723e-09, 8.74238421e-09,\n",
       "        1.34620763e-08, 2.08582529e-07]),\n",
       " array([4.99911551e-04, 4.98240048e-06, 4.98223799e-08, 4.98557140e-10,\n",
       "        6.17320084e-12, 2.83776891e-11, 1.39399992e-10, 3.19126908e-09,\n",
       "        1.34620763e-08, 3.46528984e-07]))"
      ]
     },
     "execution_count": 92,
     "metadata": {},
     "output_type": "execute_result"
    }
   ],
   "source": [
    "np.abs(error_OSD), np.abs(error_TSD)"
   ]
  },
  {
   "cell_type": "code",
   "execution_count": 93,
   "metadata": {},
   "outputs": [
    {
     "data": {
      "image/png": "[encoded data removed]",
      "text/plain": [
       "<Figure size 432x288 with 1 Axes>"
      ]
     },
     "metadata": {
      "needs_background": "light"
     },
     "output_type": "display_data"
    }
   ],
   "source": [
    "fig, ax  = plt.subplots()\n",
    "ax.scatter(np.linspace(1,10,10), np.abs(error_OSD), label=\"One sided derivative\")\n",
    "ax.scatter(np.linspace(1,10,10), np.abs(error_TSD), label=\"One sided derivative\")\n",
    "plt.title(\"Absolute error\")\n",
    "plt.legend()\n",
    "plt.show()"
   ]
  },
  {
   "cell_type": "code",
   "execution_count": 94,
   "metadata": {},
   "outputs": [
    {
     "data": {
      "image/png": "[encoded data removed]",
      "text/plain": [
       "<Figure size 432x288 with 1 Axes>"
      ]
     },
     "metadata": {
      "needs_background": "light"
     },
     "output_type": "display_data"
    }
   ],
   "source": [
    "fig, ax  = plt.subplots()\n",
    "ax.scatter(np.linspace(1,10,10)[1:], np.abs(error_OSD)[1:], label=\"One sided derivative\")\n",
    "ax.scatter(np.linspace(1,10,10)[1:], np.abs(error_TSD)[1:], label=\"One sided derivative\")\n",
    "plt.title(\"Absolute error\")\n",
    "plt.legend()\n",
    "plt.show()"
   ]
  },
  {
   "cell_type": "code",
   "execution_count": 95,
   "metadata": {},
   "outputs": [
    {
     "data": {
      "image/png": "[encoded data removed]",
      "text/plain": [
       "<Figure size 432x288 with 1 Axes>"
      ]
     },
     "metadata": {
      "needs_background": "light"
     },
     "output_type": "display_data"
    }
   ],
   "source": [
    "fig, ax  = plt.subplots()\n",
    "ax.scatter(np.linspace(1,10,10),np.abs(error_OSD) - np.abs(error_TSD), label=\"Difference between errors\")\n",
    "plt.title(\"OSD abs error - 2SD abs error\")\n",
    "plt.legend()\n",
    "plt.show()"
   ]
  },
  {
   "cell_type": "code",
   "execution_count": 96,
   "metadata": {},
   "outputs": [
    {
     "data": {
      "text/plain": [
       "(8.742384205451259e-09, 1e-08)"
      ]
     },
     "execution_count": 96,
     "metadata": {},
     "output_type": "execute_result"
    }
   ],
   "source": [
    "np.min(np.abs(error_OSD)), ϵ[np.argmin(np.abs(error_OSD))]"
   ]
  },
  {
   "cell_type": "code",
   "execution_count": 97,
   "metadata": {},
   "outputs": [
    {
     "data": {
      "text/plain": [
       "(6.1732008393988735e-12, 1e-05)"
      ]
     },
     "execution_count": 97,
     "metadata": {},
     "output_type": "execute_result"
    }
   ],
   "source": [
    "np.min(np.abs(error_TSD)), ϵ[np.argmin(np.abs(error_TSD))]"
   ]
  },
  {
   "cell_type": "markdown",
   "metadata": {},
   "source": [
    "The minimum absolute error for the one sided derivative is achieved when $\\Delta=10^{-08}$. The minimum absolute error for the two sided derivative is achieved when $\\Delta=10^{-05}$. At the minimum, the Two sided derivative has a smaller absolute error compare to the One sided derivative. For a more detailed discussion see the pdf attached."
   ]
  },
  {
   "cell_type": "markdown",
   "metadata": {},
   "source": [
    "Exercises 3 and 4:\n",
    "\n",
    "Use the bisection, secant, and Newton's methods to compute an estimate of $p_0$, where $g\\left(p_0\\right)=$ $0.75$ (and $g$ is defined in the first problem). For each method, report how many iterations are required to compute an estimate $\\hat{p}$ satisfying $\\left|f(\\hat{p})-f\\left(p_0\\right)\\right|<10^{-6}$.\n",
    "\n",
    "Repeat the last problem using Brent's method as described in Chapter $9.3$ of Numerical Recipes in Fortran."
   ]
  },
  {
   "cell_type": "code",
   "execution_count": 98,
   "metadata": {},
   "outputs": [],
   "source": [
    "def g_tilda(p):\n",
    "    return 0.5*p**(-0.5) + 0.5*p**(-0.2) - 0.75"
   ]
  },
  {
   "cell_type": "code",
   "execution_count": 99,
   "metadata": {},
   "outputs": [
    {
     "data": {
      "image/png": "[encoded data removed]",
      "text/plain": [
       "<Figure size 432x288 with 1 Axes>"
      ]
     },
     "metadata": {
      "needs_background": "light"
     },
     "output_type": "display_data"
    }
   ],
   "source": [
    "ax, fig = plt.subplots()\n",
    "plt.plot(np.linspace(1,10,100), g_tilda(np.linspace(1,10,100)), label=\"g(x)-0.75\")\n",
    "plt.plot(np.linspace(1,10,100), g_tilda(np.linspace(1,10,100))*0, label=\"0\")\n",
    "plt.title(\"Root finding\")\n",
    "plt.legend()\n",
    "plt.show()"
   ]
  },
  {
   "cell_type": "code",
   "execution_count": 100,
   "metadata": {},
   "outputs": [],
   "source": [
    "precision = 10**(-6)"
   ]
  },
  {
   "cell_type": "code",
   "execution_count": 101,
   "metadata": {},
   "outputs": [],
   "source": [
    "def secant(x0,x1,e,N):\n",
    "    step = 1\n",
    "    condition = True\n",
    "    while condition:\n",
    "        x2 = x0 - (x1-x0)*g_tilda(x0)/( g_tilda(x1) - g_tilda(x0) ) \n",
    "        x0 = x1\n",
    "        x1 = x2\n",
    "        step = step + 1\n",
    "        if step > N:\n",
    "            print('Max iter achieved')\n",
    "            break\n",
    "        condition = abs(g_tilda(x2)) > e\n",
    "    print('Total Iterations ' + str( step))\n",
    "    print('Root:' + str(x2))"
   ]
  },
  {
   "cell_type": "code",
   "execution_count": 102,
   "metadata": {},
   "outputs": [
    {
     "name": "stdout",
     "output_type": "stream",
     "text": [
      "Total Iterations 6\n",
      "Root:2.327576829233226\n"
     ]
    }
   ],
   "source": [
    "secant(0.1,3,precision,100)"
   ]
  },
  {
   "cell_type": "code",
   "execution_count": 103,
   "metadata": {},
   "outputs": [
    {
     "data": {
      "text/plain": [
       "(2.3275801395267837,\n",
       "       converged: True\n",
       "            flag: 'converged'\n",
       "  function_calls: 12\n",
       "      iterations: 11\n",
       "            root: 2.3275801395267837)"
      ]
     },
     "execution_count": 103,
     "metadata": {},
     "output_type": "execute_result"
    }
   ],
   "source": [
    "scipy.optimize.newton(g_prime, 0.1, fprime=None, args=(), tol=precision, maxiter=100, fprime2=None, x1=None, rtol=0.0, full_output=True, disp=True)"
   ]
  },
  {
   "cell_type": "code",
   "execution_count": 104,
   "metadata": {},
   "outputs": [],
   "source": [
    "def Bisection(f, x_0, x_1, precision, steps): \n",
    "    \n",
    "    if np.sign(f(x_0)) == np.sign(f(x_1)):\n",
    "        raise Exception(\"Cannot bracket root\")\n",
    "    m = (x_0 + x_1)/2\n",
    "    if np.abs(f(m)) < precision:\n",
    "        return m, steps\n",
    "    elif np.sign(f(x_0)) == np.sign(f(m)):\n",
    "        return Bisection(f, m, x_1, precision, (steps + 1))\n",
    "    elif np.sign(f(x_1)) == np.sign(f(m)):\n",
    "        return Bisection(f, x_0, m, precision, (steps + 1))"
   ]
  },
  {
   "cell_type": "code",
   "execution_count": 105,
   "metadata": {},
   "outputs": [
    {
     "data": {
      "text/plain": [
       "(2.3275806427001955, 17)"
      ]
     },
     "execution_count": 105,
     "metadata": {},
     "output_type": "execute_result"
    }
   ],
   "source": [
    "Bisection(g_prime, 0.1, 3, precision, 0)"
   ]
  },
  {
   "cell_type": "code",
   "execution_count": 106,
   "metadata": {},
   "outputs": [
    {
     "data": {
      "text/plain": [
       "(2.3275801395268103,\n",
       "       converged: True\n",
       "            flag: 'converged'\n",
       "  function_calls: 9\n",
       "      iterations: 8\n",
       "            root: 2.3275801395268103)"
      ]
     },
     "execution_count": 106,
     "metadata": {},
     "output_type": "execute_result"
    }
   ],
   "source": [
    "scipy.optimize.brentq(g_prime, 0.1, 3, args=(), xtol=2e-12, rtol=8.881784197001252e-16, maxiter=100, full_output=True, disp=True)"
   ]
  },
  {
   "cell_type": "markdown",
   "metadata": {},
   "source": [
    "Iterations needed to compute ${\\hat{p}}$:\n",
    "\n",
    "|Method|Iterations|\n",
    "| ---- | ----     |\n",
    "|Newton's      |     11     |\n",
    "|Bisection     |    17     |\n",
    "|Secant        |   6      |\n",
    "|Brent's      |    8  |"
   ]
  },
  {
   "cell_type": "markdown",
   "metadata": {},
   "source": [
    "For a detailed explanation about what each algorithm does see attached pdf. The 2 Methods that are always well defined are Brent's and the Bisection. BIsection method is in general the slowest. When working with well behaved functions, NW is the fastest algorithm. Brent combines all of the above with an inverse quadratic equation for iterations that satisfy certain conditions."
   ]
  },
  {
   "cell_type": "markdown",
   "metadata": {},
   "source": [
    "Exercise 5"
   ]
  },
  {
   "cell_type": "code",
   "execution_count": 88,
   "metadata": {},
   "outputs": [],
   "source": [
    "# Define Parameters:\n",
    "n_k = np.linspace(30,500, dtype=int) # Grids for capitals\n",
    "n_A = 15  # Markov States.\n",
    "δ = 0.9   # Depreciation.\n",
    "α = 0.7   # Capital Share.\n",
    "ρ = 0.98  # Memory of income.\n",
    "σ = 0.01  # Volatility of income.\n",
    "β = 0.98\n",
    "error = 10e-6 # Error tolerance.\n",
    "# Construct the markov chain using rouwenhorst method:\n",
    "markov = qe.markov.approximation.rouwenhorst(n= n_A, ybar = 1-ρ, sigma=σ, rho= ρ)\n",
    "# Probability matrix and states:\n",
    "# note that element (i,j) of P represents the transition probability\n",
    "# of going to state \"j\" given that we are in state \"i\".\n",
    "Π = markov.P   \n",
    "A = markov.state_values  \n",
    "# Maximum sustainable Capital:\n",
    "K_max = (A[-1]/δ)**(1/(1-α))\n",
    "K_min = (A[0]/δ)**(1/(1-α)) * 0.25\n",
    "# Capital grid a column vector:\n",
    "K = np.linspace(K_min, K_max, n_k[0])\n",
    "# Utility function\n",
    "def U(c):\n",
    "    if (c>=0).all()>0.0001:\n",
    "        return 0.5*((c)**(0.5))\n",
    "    else:\n",
    "        return np.where(c <= 0.0001, -10e5, 0.5*(c)**(0.5))\n",
    "# Convergence criteria:\n",
    "#''' Inputs: Matrices of optimal capital for the n and n+1 iteration.\n",
    "#    Outputs: Maximum differences between both '''\n",
    "#def CC(k_0, k_1):\n",
    "#    return np.nanmax()"
   ]
  },
  {
   "cell_type": "code",
   "execution_count": 116,
   "metadata": {},
   "outputs": [
    {
     "name": "stderr",
     "output_type": "stream",
     "text": [
      "C:\\Users\\Hogar\\AppData\\Local\\Temp\\ipykernel_19104\\3551243856.py:27: RuntimeWarning: invalid value encountered in sqrt\n",
      "  return np.where(c <= 0.0001, -10e5, 0.5*(c)**(0.5))\n"
     ]
    },
    {
     "name": "stdout",
     "output_type": "stream",
     "text": [
      "Solution Found\n",
      "Iterations 486\n",
      "Error 9.883246606889884e-06\n"
     ]
    }
   ],
   "source": [
    "\n",
    "\n",
    "while iter < max_iter:\n",
    "    for r in range(n_A):\n",
    "        for c in range(n_k[C]):\n",
    "            V_1[r,c] = np.amax(U( A[r] * K[c]**α + (1-δ) * K[c] - K) + β * Π[r,:] @ V_0)\n",
    "            h_1[r,c] = np.argmax(U( A[r] * K[c]**α + (1-δ) * K[c] - K) + β * Π[r,:] @ V_0)\n",
    "    if np.amax(np.abs(V_1 - V_0))< error:\n",
    "        print(\"Solution Found\")\n",
    "        print(f'Iterations', iter)\n",
    "        print(f'Error', np.amax(np.abs(V_1 - V_0)))\n",
    "        break\n",
    "    else:\n",
    "        V_0 = np.copy(V_1)\n",
    "        iter += 1\n",
    "        if iter >= max_iter:\n",
    "            print(\"No solution\")"
   ]
  },
  {
   "cell_type": "code",
   "execution_count": 1,
   "metadata": {},
   "outputs": [],
   "source": [
    "import quantecon as qe\n",
    "import numpy as np\n",
    "import scipy\n",
    "import matplotlib.pyplot as plt\n",
    "from scipy.interpolate import CubicSpline\n",
    "from scipy import optimize"
   ]
  },
  {
   "cell_type": "code",
   "execution_count": 2,
   "metadata": {},
   "outputs": [
    {
     "name": "stdout",
     "output_type": "stream",
     "text": [
      "Solution Found\n",
      "Iterations 661\n",
      "Error 9.80772830416754e-06\n"
     ]
    },
    {
     "data": {
      "text/plain": [
       "(array([[-326.94456678, -326.49425876, -325.61225118, ..., -285.32496173,\n",
       "         -285.13841512, -284.95131395],\n",
       "        [-326.94456678, -326.49425876, -325.61225118, ..., -285.32496173,\n",
       "         -285.13841512, -284.95131395],\n",
       "        [-326.94456678, -326.49425876, -325.61225118, ..., -285.32496173,\n",
       "         -285.13841512, -284.95131395],\n",
       "        ...,\n",
       "        [-326.94456678, -326.49425876, -325.61225118, ..., -285.32496173,\n",
       "         -285.13841512, -284.95131395],\n",
       "        [-326.94456678, -326.49425876, -325.61225118, ..., -285.32496173,\n",
       "         -285.13841512, -284.95131395],\n",
       "        [-326.94456678, -326.49425876, -325.61225118, ..., -285.32496173,\n",
       "         -285.13841512, -284.95131395]]),\n",
       " array([[ 6,  7,  7, ..., 62, 62, 63],\n",
       "        [ 6,  7,  7, ..., 62, 62, 63],\n",
       "        [ 6,  7,  7, ..., 62, 62, 63],\n",
       "        ...,\n",
       "        [ 6,  7,  7, ..., 62, 62, 63],\n",
       "        [ 6,  7,  7, ..., 62, 62, 63],\n",
       "        [ 6,  7,  7, ..., 62, 62, 63]]),\n",
       " array([[0.1292978 , 0.13691944, 0.13691944, ..., 1.07318548, 1.07318548,\n",
       "         1.09682498],\n",
       "        [0.1292978 , 0.13691944, 0.13691944, ..., 1.07318548, 1.07318548,\n",
       "         1.09682498],\n",
       "        [0.1292978 , 0.13691944, 0.13691944, ..., 1.07318548, 1.07318548,\n",
       "         1.09682498],\n",
       "        ...,\n",
       "        [0.1292978 , 0.13691944, 0.13691944, ..., 1.07318548, 1.07318548,\n",
       "         1.09682498],\n",
       "        [0.1292978 , 0.13691944, 0.13691944, ..., 1.07318548, 1.07318548,\n",
       "         1.09682498],\n",
       "        [0.1292978 , 0.13691944, 0.13691944, ..., 1.07318548, 1.07318548,\n",
       "         1.09682498]]))"
      ]
     },
     "execution_count": 2,
     "metadata": {},
     "output_type": "execute_result"
    }
   ],
   "source": [
    "#Non stochastic economy:\n",
    "\n",
    "# Compute the value function for the Non-stochastic economy first, and an obtain the policies. Them we can apply the algorithm for exercise a).\n",
    "\n",
    "# Define Parameters:\n",
    "n_k = np.linspace(30,500, dtype=int) # Grids for capitals\n",
    "n_A = 15  # Markov States.\n",
    "δ = 0.9   # Depreciation.\n",
    "α = 0.7   # Capital Share.\n",
    "ρ = 0.98  # Memory of income.\n",
    "σ = 0.0  # Volatility of income.\n",
    "β = 0.98  #Discont factor.\n",
    "C = 5 # Choice of grid fo capital.\n",
    "θ = 1.5 # Expanding grid coefficient.\n",
    "error = 10e-6 # Error tolerance.\n",
    "# Construct the markov chain using rouwenhorst method:\n",
    "markov = qe.markov.approximation.rouwenhorst(n= n_A, ybar = 1-ρ, sigma=σ, rho= ρ)\n",
    "# Probability matrix and states:\n",
    "# note that element (i,j) of P represents the transition probability\n",
    "# of going to state \"j\" given that we are in state \"i\".\n",
    "Π = markov.P   \n",
    "A = markov.state_values  \n",
    "# Maximum sustainable Capital:\n",
    "K_max = (A[-1]/δ)**(1/(1-α))\n",
    "K_min = 0.1\n",
    "# Use and expanding grid:\n",
    "K = K_min + (K_max - K_min) * (np.linspace(0, 1, n_k[C])**θ)\n",
    "# Utility function\n",
    "def U(c):\n",
    "    if (c>=0).all()>0.0001:\n",
    "        return -1*((c)**(-1))\n",
    "    else:\n",
    "        return np.where(c <= 0.0001, np.nan, -1*(c)**(-1))\n",
    "# Convergence criteria:\n",
    "#''' Inputs: Matrices of optimal capital for the n and n+1 iteration.\n",
    "#    Outputs: Maximum differences between both '''\n",
    "#def CC(k_0, k_1):\n",
    "#    return np.nanmax()\n",
    "\n",
    "V_0 = np.ones((n_A, n_k[C]))\n",
    "V_1 = np.copy(V_0)\n",
    "h_1 = np.ones((n_A, n_k[C]), dtype=int)\n",
    "iter = 0\n",
    "max_iter = 1000\n",
    "\n",
    "while iter < max_iter:\n",
    "    for r in range(n_A):\n",
    "        for c in range(n_k[C]):\n",
    "            V_1[r,c] = np.nanmax(U( A[r] * K[c]**α + (1-δ) * K[c] - K) + β * Π[r,:] @ V_0)\n",
    "            h_1[r,c] = np.nanargmax(U( A[r] * K[c]**α + (1-δ) * K[c] - K) + β * Π[r,:] @ V_0)\n",
    "    if np.amax(np.abs(V_1 - V_0))< error:\n",
    "        print(\"Solution Found\")\n",
    "        print(f'Iterations', iter)\n",
    "        print(f'Error', np.amax(np.abs(V_1 - V_0)))\n",
    "        break\n",
    "    else:\n",
    "        V_0 = np.copy(V_1)\n",
    "        iter += 1\n",
    "        if iter >= max_iter:\n",
    "            print(\"No solution\")\n",
    "\n",
    "VNSS = V_1.copy()\n",
    "h_NSS = h_1.copy()\n",
    "VNSS, h_NSS, K[h_NSS]"
   ]
  },
  {
   "cell_type": "code",
   "execution_count": 3,
   "metadata": {},
   "outputs": [
    {
     "data": {
      "image/png": "[encoded data removed]",
      "text/plain": [
       "<Figure size 720x720 with 2 Axes>"
      ]
     },
     "metadata": {
      "needs_background": "light"
     },
     "output_type": "display_data"
    }
   ],
   "source": [
    "fig, ax  = plt.subplots(2, figsize=(10,10))\n",
    "ax[0].scatter(K, V_1[0,:], label=\"Value Function Given A\")\n",
    "ax[0].scatter(K, V_1[10,:], label=\"Value Function Given A\")\n",
    "ax[1].scatter(K, K[h_1[3,:]], label=\"Value Function Given A\")\n",
    "ax[1].scatter(K, K[h_1[10,:]], label=\"Value Function Given A\")\n",
    "ax[1].plot(K, K, label=\"Value Function Given A\")\n",
    "#plt.title(\"OSD abs error - 2SD abs error\")\n",
    "plt.legend()\n",
    "plt.show()\n"
   ]
  },
  {
   "cell_type": "code",
   "execution_count": 4,
   "metadata": {},
   "outputs": [
    {
     "name": "stdout",
     "output_type": "stream",
     "text": [
      "0\n",
      "0.10139219796218625\n",
      "1\n",
      "0.008527913136467011\n",
      "2\n",
      "0.006771378872640804\n",
      "3\n",
      "0.005891706771818994\n",
      "4\n",
      "0.004414550726896253\n",
      "5\n",
      "0.003055391711489811\n",
      "6\n",
      "0.0018048380927982665\n",
      "7\n",
      "0.0012755997651570329\n",
      "8\n",
      "0.001014095982715941\n",
      "9\n",
      "0.0007096683393513532\n",
      "10\n",
      "0.0005747355598257503\n",
      "11\n",
      "0.00046584718814799005\n",
      "12\n",
      "0.00032993490700786854\n",
      "13\n",
      "0.00024679116833608325\n",
      "14\n",
      "0.00019078148558273245\n",
      "15\n",
      "0.00015603256885645238\n",
      "16\n",
      "0.00012210723956502452\n",
      "17\n",
      "8.642770566451573e-05\n",
      "18\n",
      "6.577129262038522e-05\n",
      "19\n",
      "5.012883263938183e-05\n",
      "20\n",
      "3.817821948683713e-05\n",
      "21\n",
      "4.1078935867543735e-05\n",
      "22\n",
      "2.2117060825031357e-05\n",
      "23\n",
      "1.716706627277992e-05\n",
      "24\n",
      "1.2840861991338906e-05\n",
      "Solution Found\n"
     ]
    }
   ],
   "source": [
    "#Interpolation Economy:\n",
    "\n",
    "#Construct the expanding grid.\n",
    "\n",
    "σ = 0.01 # Volatility of income.\n",
    "# Construct the markov chain using rouwenhorst method:\n",
    "markov = qe.markov.approximation.rouwenhorst(n= n_A, ybar = 1-ρ, sigma=σ, rho= ρ)\n",
    "# Probability matrix and states:\n",
    "# note that element (i,j) of P represents the transition probability\n",
    "# of going to state \"j\" given that we are in state \"i\".\n",
    "Π = markov.P   \n",
    "A = markov.state_values  \n",
    "#Now initiliaze the new code at the NSS:\n",
    "\n",
    "V_0 = VNSS.copy()\n",
    "h_0 = K[h_NSS.copy()]\n",
    "h_int = np.zeros((n_A, n_k[C]), dtype=float)\n",
    "V_1 = np.zeros((n_A, n_k[C]))\n",
    "iter = 0\n",
    "# First Loop:\n",
    "# From V_0, k_0, get V_1, k_1:\n",
    "\n",
    "while iter < max_iter:\n",
    "    for r in range(n_A):\n",
    "        for c in range(n_k[C]):\n",
    "            # First Obtain the interporaled expected value of V, given A today:\n",
    "            # We have the array for different values for capital, we just need \n",
    "            # to get the array of expected values for the value function given\n",
    "            # the choice for today.\n",
    "            \n",
    "            E_V = CubicSpline(K, Π[r,:] @ V_0 , bc_type=\"natural\")\n",
    "\n",
    "            def Return_f(kp):\n",
    "                return -1*(U( A[r] * K[c]**α + (1-δ) * K[c] - kp) + β * E_V(kp))\n",
    "            # We don't want to allow for states where consumption is negative:\n",
    "            def ieq_neg(kp):\n",
    "                return (A[r] * K[c]**α + (1-δ) * K[c] - kp)\n",
    "            constraints_1 = {'type': 'ineq', 'fun': ieq_neg}\n",
    "            # Setting the minimum capital in the continuous grid. \n",
    "            # note that this is les than K_min.\n",
    "            def ieq_min(kp):\n",
    "                return   kp + (K_min * 1)\n",
    "            constraints_2 = {'type': 'ineq', 'fun': ieq_min}\n",
    "            # Setting the maximum capital in the continuous grid. \n",
    "            # note that this is greater than K_max.\n",
    "            def ieq_max(kp):\n",
    "                return - kp + (1.3 * K_max)\n",
    "            constraints_3 = {'type': 'ineq', 'fun': ieq_max}\n",
    "            \n",
    "            h_int[r,c] = scipy.optimize.minimize(Return_f, K_min, constraints=[constraints_1, constraints_2, constraints_3], tol = 10e-7).x[0]\n",
    "            \n",
    "            V_1[r,c] = U( A[r] * K[c]**α + (1-δ) * K[c] - h_int[r,c]) + β * E_V(h_int[r,c])\n",
    "    \n",
    "    if np.amax((h_int - h_0)/(1 + np.abs(h_0)))< error:\n",
    "        print(\"Solution Found\")\n",
    "        break\n",
    "\n",
    "    else:\n",
    "        print(iter)\n",
    "        print(np.amax((h_int - h_0)/(1 + np.abs(h_0))))\n",
    "        iter += 1\n",
    "        V_0 = V_1.copy()\n",
    "        h_0 = h_int.copy()\n",
    "        "
   ]
  },
  {
   "cell_type": "code",
   "execution_count": 5,
   "metadata": {},
   "outputs": [
    {
     "data": {
      "image/png": "[encoded data removed]",
      "text/plain": [
       "<Figure size 720x720 with 2 Axes>"
      ]
     },
     "metadata": {
      "needs_background": "light"
     },
     "output_type": "display_data"
    }
   ],
   "source": [
    "fig, ax  = plt.subplots(2, figsize=(10,10))\n",
    "ax[0].scatter(K, V_1[3,:], label=\"Value Function Given A\")\n",
    "ax[0].scatter(K, V_1[10,:], label=\"Value Function Given A\")\n",
    "ax[0].scatter(K, V_1[5,:], label=\"Value Function Given A\")\n",
    "ax[0].scatter(K, V_1[14,:], label=\"Value Function Given A\")\n",
    "ax[1].scatter(K, h_int[3,:], label=\"Value Function Given A\")\n",
    "ax[1].scatter(K, h_int[10,:], label=\"Value Function Given A\")\n",
    "ax[1].scatter(K, h_int[5,:], label=\"Value Function Given A\")\n",
    "ax[1].scatter(K, h_int[14,:], label=\"Value Function Given A\")\n",
    "ax[1].plot(K, K, label=\"Value Function Given A\")\n",
    "#plt.title(\"OSD abs error - 2SD abs error\")\n",
    "plt.legend()\n",
    "plt.show()"
   ]
  },
  {
   "cell_type": "code",
   "execution_count": 6,
   "metadata": {},
   "outputs": [
    {
     "data": {
      "text/plain": [
       "array([[0.1141246 , 0.11594319, 0.1192657 , ..., 0.91735373, 0.93103332,\n",
       "        0.94475108],\n",
       "       [0.11673051, 0.11860398, 0.12199506, ..., 0.93911734, 0.95305642,\n",
       "        0.96716786],\n",
       "       [0.11931284, 0.12122016, 0.12468785, ..., 0.96062749, 0.97493617,\n",
       "        0.98937268],\n",
       "       ...,\n",
       "       [0.14336393, 0.14567128, 0.14986316, ..., 1.16609744, 1.18351282,\n",
       "        1.200975  ],\n",
       "       [0.14562123, 0.14796468, 0.15222245, ..., 1.18561748, 1.20333171,\n",
       "        1.22109385],\n",
       "       [0.14785299, 0.15023183, 0.15455738, ..., 1.20499557, 1.22300731,\n",
       "        1.24106872]])"
      ]
     },
     "execution_count": 6,
     "metadata": {},
     "output_type": "execute_result"
    }
   ],
   "source": [
    "h_int"
   ]
  }
 ],
 "metadata": {
  "kernelspec": {
   "display_name": "Python 3.9.12 ('base')",
   "language": "python",
   "name": "python3"
  },
  "language_info": {
   "codemirror_mode": {
    "name": "ipython",
    "version": 3
   },
   "file_extension": ".py",
   "mimetype": "text/x-python",
   "name": "python",
   "nbconvert_exporter": "python",
   "pygments_lexer": "ipython3",
   "version": "3.9.12"
  },
  "orig_nbformat": 4,
  "vscode": {
   "interpreter": {
    "hash": "b69a4b02e7947e52e6ad2ba4161a8d75302f9e0e4230d8a535486fa2ac92da57"
   }
  }
 },
 "nbformat": 4,
 "nbformat_minor": 2
}
