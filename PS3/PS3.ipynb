{
 "cells": [
  {
   "cell_type": "markdown",
   "metadata": {},
   "source": [
    "Exercise 1 and 2:\n"
   ]
  },
  {
   "cell_type": "code",
   "execution_count": 85,
   "metadata": {},
   "outputs": [],
   "source": [
    "import numpy as np\n",
    "import matplotlib.pyplot as plt\n",
    "import scipy\n",
    "from scipy import optimize"
   ]
  },
  {
   "cell_type": "markdown",
   "metadata": {},
   "source": [
    "Use one-sided finite differences to compute an approximation to the first derivative of $g(p)=$ $0.5 p^{-0.5}+0.5 p^{-0.2}$ at $p=1.5$. Let the increment $\\epsilon$ in the finite differences range across all the values in the set $\\left\\{10^{-1}, 10^{-2}, \\ldots, 10^{-10}\\right\\}$. For which value of $\\epsilon$ the approximate first derivative the most accurate? Repeat the third problem using two-sided finite differences to approximate the first derivative"
   ]
  },
  {
   "cell_type": "code",
   "execution_count": 86,
   "metadata": {},
   "outputs": [],
   "source": [
    "def g(p):\n",
    "    return 0.5*p**(-0.5) + 0.5*p**(-0.2)"
   ]
  },
  {
   "cell_type": "code",
   "execution_count": 87,
   "metadata": {},
   "outputs": [],
   "source": [
    "def OSD(p, Δ):\n",
    "    return (g(p+Δ) - g(p))/ Δ "
   ]
  },
  {
   "cell_type": "code",
   "execution_count": 88,
   "metadata": {},
   "outputs": [],
   "source": [
    "def TSD(p, Δ):\n",
    "    return (g(p+Δ) - g(p-Δ))/ (2*Δ) "
   ]
  },
  {
   "cell_type": "code",
   "execution_count": 89,
   "metadata": {},
   "outputs": [],
   "source": [
    "OSD = np.vectorize(OSD)\n",
    "TSD = np.vectorize(TSD)"
   ]
  },
  {
   "cell_type": "code",
   "execution_count": 90,
   "metadata": {},
   "outputs": [],
   "source": [
    "ϵ= 10**(-1* np.linspace(1,10,10))\n",
    "p_point = np.linspace(1,1,10) * 1.5\n",
    "truth = -(0.5**2) * 1.5**(-1.5) - 0.5 * 0.2 * 1.5**(-1.2)"
   ]
  },
  {
   "cell_type": "code",
   "execution_count": 91,
   "metadata": {},
   "outputs": [],
   "source": [
    "error_OSD = OSD(p_point, ϵ) - truth\n",
    "error_TSD = TSD(p_point, ϵ) - truth"
   ]
  },
  {
   "cell_type": "code",
   "execution_count": 92,
   "metadata": {},
   "outputs": [
    {
     "data": {
      "text/plain": [
       "(array([8.79174498e-03, 9.21355323e-04, 9.25811321e-05, 9.26259451e-06,\n",
       "        9.26308407e-07, 9.26752449e-08, 9.85260723e-09, 8.74238421e-09,\n",
       "        1.34620763e-08, 2.08582529e-07]),\n",
       " array([4.99911551e-04, 4.98240048e-06, 4.98223799e-08, 4.98557140e-10,\n",
       "        6.17320084e-12, 2.83776891e-11, 1.39399992e-10, 3.19126908e-09,\n",
       "        1.34620763e-08, 3.46528984e-07]))"
      ]
     },
     "execution_count": 92,
     "metadata": {},
     "output_type": "execute_result"
    }
   ],
   "source": [
    "np.abs(error_OSD), np.abs(error_TSD)"
   ]
  },
  {
   "cell_type": "code",
   "execution_count": 93,
   "metadata": {},
   "outputs": [
    {
     "data": {
      "image/png": "[encoded data removed]",
      "text/plain": [
       "<Figure size 432x288 with 1 Axes>"
      ]
     },
     "metadata": {
      "needs_background": "light"
     },
     "output_type": "display_data"
    }
   ],
   "source": [
    "fig, ax  = plt.subplots()\n",
    "ax.scatter(np.linspace(1,10,10), np.abs(error_OSD), label=\"One sided derivative\")\n",
    "ax.scatter(np.linspace(1,10,10), np.abs(error_TSD), label=\"One sided derivative\")\n",
    "plt.title(\"Absolute error\")\n",
    "plt.legend()\n",
    "plt.show()"
   ]
  },
  {
   "cell_type": "code",
   "execution_count": 94,
   "metadata": {},
   "outputs": [
    {
     "data": {
      "image/png": "[encoded data removed]",
      "text/plain": [
       "<Figure size 432x288 with 1 Axes>"
      ]
     },
     "metadata": {
      "needs_background": "light"
     },
     "output_type": "display_data"
    }
   ],
   "source": [
    "fig, ax  = plt.subplots()\n",
    "ax.scatter(np.linspace(1,10,10)[1:], np.abs(error_OSD)[1:], label=\"One sided derivative\")\n",
    "ax.scatter(np.linspace(1,10,10)[1:], np.abs(error_TSD)[1:], label=\"One sided derivative\")\n",
    "plt.title(\"Absolute error\")\n",
    "plt.legend()\n",
    "plt.show()"
   ]
  },
  {
   "cell_type": "code",
   "execution_count": 95,
   "metadata": {},
   "outputs": [
    {
     "data": {
      "image/png": "[encoded data removed]",
      "text/plain": [
       "<Figure size 432x288 with 1 Axes>"
      ]
     },
     "metadata": {
      "needs_background": "light"
     },
     "output_type": "display_data"
    }
   ],
   "source": [
    "fig, ax  = plt.subplots()\n",
    "ax.scatter(np.linspace(1,10,10),np.abs(error_OSD) - np.abs(error_TSD), label=\"Difference between errors\")\n",
    "plt.title(\"OSD abs error - 2SD abs error\")\n",
    "plt.legend()\n",
    "plt.show()"
   ]
  },
  {
   "cell_type": "code",
   "execution_count": 96,
   "metadata": {},
   "outputs": [
    {
     "data": {
      "text/plain": [
       "(8.742384205451259e-09, 1e-08)"
      ]
     },
     "execution_count": 96,
     "metadata": {},
     "output_type": "execute_result"
    }
   ],
   "source": [
    "np.min(np.abs(error_OSD)), ϵ[np.argmin(np.abs(error_OSD))]"
   ]
  },
  {
   "cell_type": "code",
   "execution_count": 97,
   "metadata": {},
   "outputs": [
    {
     "data": {
      "text/plain": [
       "(6.1732008393988735e-12, 1e-05)"
      ]
     },
     "execution_count": 97,
     "metadata": {},
     "output_type": "execute_result"
    }
   ],
   "source": [
    "np.min(np.abs(error_TSD)), ϵ[np.argmin(np.abs(error_TSD))]"
   ]
  },
  {
   "cell_type": "markdown",
   "metadata": {},
   "source": [
    "The minimum absolute error for the one sided derivative is achieved when $\\Delta=10^{-08}$. The minimum absolute error for the two sided derivative is achieved when $\\Delta=10^{-05}$. At the minimum, the Two sided derivative has a smaller absolute error compare to the One sided derivative. For a more detailed discussion see the pdf attached."
   ]
  },
  {
   "cell_type": "markdown",
   "metadata": {},
   "source": [
    "Exercises 3 and 4:\n",
    "\n",
    "Use the bisection, secant, and Newton's methods to compute an estimate of $p_0$, where $g\\left(p_0\\right)=$ $0.75$ (and $g$ is defined in the first problem). For each method, report how many iterations are required to compute an estimate $\\hat{p}$ satisfying $\\left|f(\\hat{p})-f\\left(p_0\\right)\\right|<10^{-6}$.\n",
    "\n",
    "Repeat the last problem using Brent's method as described in Chapter $9.3$ of Numerical Recipes in Fortran."
   ]
  },
  {
   "cell_type": "code",
   "execution_count": 98,
   "metadata": {},
   "outputs": [],
   "source": [
    "def g_tilda(p):\n",
    "    return 0.5*p**(-0.5) + 0.5*p**(-0.2) - 0.75"
   ]
  },
  {
   "cell_type": "code",
   "execution_count": 99,
   "metadata": {},
   "outputs": [
    {
     "data": {
      "image/png": "[encoded data removed]",
      "text/plain": [
       "<Figure size 432x288 with 1 Axes>"
      ]
     },
     "metadata": {
      "needs_background": "light"
     },
     "output_type": "display_data"
    }
   ],
   "source": [
    "ax, fig = plt.subplots()\n",
    "plt.plot(np.linspace(1,10,100), g_tilda(np.linspace(1,10,100)), label=\"g(x)-0.75\")\n",
    "plt.plot(np.linspace(1,10,100), g_tilda(np.linspace(1,10,100))*0, label=\"0\")\n",
    "plt.title(\"Root finding\")\n",
    "plt.legend()\n",
    "plt.show()"
   ]
  },
  {
   "cell_type": "code",
   "execution_count": 100,
   "metadata": {},
   "outputs": [],
   "source": [
    "precision = 10**(-6)"
   ]
  },
  {
   "cell_type": "code",
   "execution_count": 101,
   "metadata": {},
   "outputs": [],
   "source": [
    "def secant(x0,x1,e,N):\n",
    "    step = 1\n",
    "    condition = True\n",
    "    while condition:\n",
    "        x2 = x0 - (x1-x0)*g_tilda(x0)/( g_tilda(x1) - g_tilda(x0) ) \n",
    "        x0 = x1\n",
    "        x1 = x2\n",
    "        step = step + 1\n",
    "        if step > N:\n",
    "            print('Max iter achieved')\n",
    "            break\n",
    "        condition = abs(g_tilda(x2)) > e\n",
    "    print('Total Iterations ' + str( step))\n",
    "    print('Root:' + str(x2))"
   ]
  },
  {
   "cell_type": "code",
   "execution_count": 102,
   "metadata": {},
   "outputs": [
    {
     "name": "stdout",
     "output_type": "stream",
     "text": [
      "Total Iterations 6\n",
      "Root:2.327576829233226\n"
     ]
    }
   ],
   "source": [
    "secant(0.1,3,precision,100)"
   ]
  },
  {
   "cell_type": "code",
   "execution_count": 103,
   "metadata": {},
   "outputs": [
    {
     "data": {
      "text/plain": [
       "(2.3275801395267837,\n",
       "       converged: True\n",
       "            flag: 'converged'\n",
       "  function_calls: 12\n",
       "      iterations: 11\n",
       "            root: 2.3275801395267837)"
      ]
     },
     "execution_count": 103,
     "metadata": {},
     "output_type": "execute_result"
    }
   ],
   "source": [
    "scipy.optimize.newton(g_prime, 0.1, fprime=None, args=(), tol=precision, maxiter=100, fprime2=None, x1=None, rtol=0.0, full_output=True, disp=True)"
   ]
  },
  {
   "cell_type": "code",
   "execution_count": 104,
   "metadata": {},
   "outputs": [],
   "source": [
    "def Bisection(f, x_0, x_1, precision, steps): \n",
    "    \n",
    "    if np.sign(f(x_0)) == np.sign(f(x_1)):\n",
    "        raise Exception(\"Cannot bracket root\")\n",
    "    m = (x_0 + x_1)/2\n",
    "    if np.abs(f(m)) < precision:\n",
    "        return m, steps\n",
    "    elif np.sign(f(x_0)) == np.sign(f(m)):\n",
    "        return Bisection(f, m, x_1, precision, (steps + 1))\n",
    "    elif np.sign(f(x_1)) == np.sign(f(m)):\n",
    "        return Bisection(f, x_0, m, precision, (steps + 1))"
   ]
  },
  {
   "cell_type": "code",
   "execution_count": 105,
   "metadata": {},
   "outputs": [
    {
     "data": {
      "text/plain": [
       "(2.3275806427001955, 17)"
      ]
     },
     "execution_count": 105,
     "metadata": {},
     "output_type": "execute_result"
    }
   ],
   "source": [
    "Bisection(g_prime, 0.1, 3, precision, 0)"
   ]
  },
  {
   "cell_type": "code",
   "execution_count": 106,
   "metadata": {},
   "outputs": [
    {
     "data": {
      "text/plain": [
       "(2.3275801395268103,\n",
       "       converged: True\n",
       "            flag: 'converged'\n",
       "  function_calls: 9\n",
       "      iterations: 8\n",
       "            root: 2.3275801395268103)"
      ]
     },
     "execution_count": 106,
     "metadata": {},
     "output_type": "execute_result"
    }
   ],
   "source": [
    "scipy.optimize.brentq(g_prime, 0.1, 3, args=(), xtol=2e-12, rtol=8.881784197001252e-16, maxiter=100, full_output=True, disp=True)"
   ]
  },
  {
   "cell_type": "markdown",
   "metadata": {},
   "source": [
    "Iterations needed to compute ${\\hat{p}}$:\n",
    "\n",
    "|Method|Iterations|\n",
    "| ---- | ----     |\n",
    "|Newton's      |     11     |\n",
    "|Bisection     |    17     |\n",
    "|Secant        |   6      |\n",
    "|Brent's      |    8  |"
   ]
  },
  {
   "cell_type": "markdown",
   "metadata": {},
   "source": [
    "For a detailed explanation about what each algorithm does see attached pdf. The 2 Methods that are always well defined are Brent's and the Bisection. BIsection method is in general the slowest. When working with well behaved functions, NW is the fastest algorithm. Brent combines all of the above with an inverse quadratic equation for iterations that satisfy certain conditions."
   ]
  }
 ],
 "metadata": {
  "kernelspec": {
   "display_name": "Python 3.9.12 ('base')",
   "language": "python",
   "name": "python3"
  },
  "language_info": {
   "codemirror_mode": {
    "name": "ipython",
    "version": 3
   },
   "file_extension": ".py",
   "mimetype": "text/x-python",
   "name": "python",
   "nbconvert_exporter": "python",
   "pygments_lexer": "ipython3",
   "version": "3.9.12"
  },
  "orig_nbformat": 4,
  "vscode": {
   "interpreter": {
    "hash": "b69a4b02e7947e52e6ad2ba4161a8d75302f9e0e4230d8a535486fa2ac92da57"
   }
  }
 },
 "nbformat": 4,
 "nbformat_minor": 2
}
