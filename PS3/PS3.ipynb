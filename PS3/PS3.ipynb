{
 "cells": [
  {
   "cell_type": "markdown",
   "metadata": {},
   "source": [
    "Exercise 1 and 2:\n"
   ]
  },
  {
   "cell_type": "code",
   "execution_count": 142,
   "metadata": {},
   "outputs": [],
   "source": [
    "import numpy as np\n",
    "import matplotlib.pyplot as plt\n",
    "import scipy\n",
    "from scipy import optimize"
   ]
  },
  {
   "cell_type": "markdown",
   "metadata": {},
   "source": [
    "Use one-sided finite differences to compute an approximation to the first derivative of $g(p)=$ $0.5 p^{-0.5}+0.5 p^{-0.2}$ at $p=1.5$. Let the increment $\\epsilon$ in the finite differences range across all the values in the set $\\left\\{10^{-1}, 10^{-2}, \\ldots, 10^{-10}\\right\\}$. For which value of $\\epsilon$ the approximate first derivative the most accurate? Repeat the third problem using two-sided finite differences to approximate the first derivative"
   ]
  },
  {
   "cell_type": "code",
   "execution_count": 86,
   "metadata": {},
   "outputs": [],
   "source": [
    "def g(p):\n",
    "    return 0.5*p**(-0.5) + 0.5*p**(-0.2)"
   ]
  },
  {
   "cell_type": "code",
   "execution_count": 87,
   "metadata": {},
   "outputs": [],
   "source": [
    "def OSD(p, Δ):\n",
    "    return (g(p+Δ) - g(p))/ Δ "
   ]
  },
  {
   "cell_type": "code",
   "execution_count": 88,
   "metadata": {},
   "outputs": [],
   "source": [
    "def TSD(p, Δ):\n",
    "    return (g(p+Δ) - g(p-Δ))/ (2*Δ) "
   ]
  },
  {
   "cell_type": "code",
   "execution_count": 89,
   "metadata": {},
   "outputs": [],
   "source": [
    "OSD = np.vectorize(OSD)\n",
    "TSD = np.vectorize(TSD)"
   ]
  },
  {
   "cell_type": "code",
   "execution_count": 90,
   "metadata": {},
   "outputs": [],
   "source": [
    "ϵ= 10**(-1* np.linspace(1,10,10))\n",
    "p_point = np.linspace(1,1,10) * 1.5\n",
    "truth = -(0.5**2) * 1.5**(-1.5) - 0.5 * 0.2 * 1.5**(-1.2)"
   ]
  },
  {
   "cell_type": "code",
   "execution_count": 91,
   "metadata": {},
   "outputs": [],
   "source": [
    "error_OSD = OSD(p_point, ϵ) - truth\n",
    "error_TSD = TSD(p_point, ϵ) - truth"
   ]
  },
  {
   "cell_type": "code",
   "execution_count": 92,
   "metadata": {},
   "outputs": [
    {
     "data": {
      "text/plain": [
       "(array([8.79174498e-03, 9.21355323e-04, 9.25811321e-05, 9.26259451e-06,\n",
       "        9.26308407e-07, 9.26752449e-08, 9.85260723e-09, 8.74238421e-09,\n",
       "        1.34620763e-08, 2.08582529e-07]),\n",
       " array([4.99911551e-04, 4.98240048e-06, 4.98223799e-08, 4.98557140e-10,\n",
       "        6.17320084e-12, 2.83776891e-11, 1.39399992e-10, 3.19126908e-09,\n",
       "        1.34620763e-08, 3.46528984e-07]))"
      ]
     },
     "execution_count": 92,
     "metadata": {},
     "output_type": "execute_result"
    }
   ],
   "source": [
    "np.abs(error_OSD), np.abs(error_TSD)"
   ]
  },
  {
   "cell_type": "code",
   "execution_count": 93,
   "metadata": {},
   "outputs": [
    {
     "data": {
      "image/png": "[encoded data removed]",
      "text/plain": [
       "<Figure size 432x288 with 1 Axes>"
      ]
     },
     "metadata": {
      "needs_background": "light"
     },
     "output_type": "display_data"
    }
   ],
   "source": [
    "fig, ax  = plt.subplots()\n",
    "ax.scatter(np.linspace(1,10,10), np.abs(error_OSD), label=\"One sided derivative\")\n",
    "ax.scatter(np.linspace(1,10,10), np.abs(error_TSD), label=\"One sided derivative\")\n",
    "plt.title(\"Absolute error\")\n",
    "plt.legend()\n",
    "plt.show()"
   ]
  },
  {
   "cell_type": "code",
   "execution_count": 94,
   "metadata": {},
   "outputs": [
    {
     "data": {
      "image/png": "[encoded data removed]",
      "text/plain": [
       "<Figure size 432x288 with 1 Axes>"
      ]
     },
     "metadata": {
      "needs_background": "light"
     },
     "output_type": "display_data"
    }
   ],
   "source": [
    "fig, ax  = plt.subplots()\n",
    "ax.scatter(np.linspace(1,10,10)[1:], np.abs(error_OSD)[1:], label=\"One sided derivative\")\n",
    "ax.scatter(np.linspace(1,10,10)[1:], np.abs(error_TSD)[1:], label=\"One sided derivative\")\n",
    "plt.title(\"Absolute error\")\n",
    "plt.legend()\n",
    "plt.show()"
   ]
  },
  {
   "cell_type": "code",
   "execution_count": 95,
   "metadata": {},
   "outputs": [
    {
     "data": {
      "image/png": "[encoded data removed]",
      "text/plain": [
       "<Figure size 432x288 with 1 Axes>"
      ]
     },
     "metadata": {
      "needs_background": "light"
     },
     "output_type": "display_data"
    }
   ],
   "source": [
    "fig, ax  = plt.subplots()\n",
    "ax.scatter(np.linspace(1,10,10),np.abs(error_OSD) - np.abs(error_TSD), label=\"Difference between errors\")\n",
    "plt.title(\"OSD abs error - 2SD abs error\")\n",
    "plt.legend()\n",
    "plt.show()"
   ]
  },
  {
   "cell_type": "code",
   "execution_count": 96,
   "metadata": {},
   "outputs": [
    {
     "data": {
      "text/plain": [
       "(8.742384205451259e-09, 1e-08)"
      ]
     },
     "execution_count": 96,
     "metadata": {},
     "output_type": "execute_result"
    }
   ],
   "source": [
    "np.min(np.abs(error_OSD)), ϵ[np.argmin(np.abs(error_OSD))]"
   ]
  },
  {
   "cell_type": "code",
   "execution_count": 97,
   "metadata": {},
   "outputs": [
    {
     "data": {
      "text/plain": [
       "(6.1732008393988735e-12, 1e-05)"
      ]
     },
     "execution_count": 97,
     "metadata": {},
     "output_type": "execute_result"
    }
   ],
   "source": [
    "np.min(np.abs(error_TSD)), ϵ[np.argmin(np.abs(error_TSD))]"
   ]
  },
  {
   "cell_type": "markdown",
   "metadata": {},
   "source": [
    "The minimum absolute error for the one sided derivative is achieved when $\\Delta=10^{-08}$. The minimum absolute error for the two sided derivative is achieved when $\\Delta=10^{-05}$. At the minimum, the Two sided derivative has a smaller absolute error compare to the One sided derivative. For a more detailed discussion see the pdf attached."
   ]
  },
  {
   "cell_type": "markdown",
   "metadata": {},
   "source": [
    "Exercises 3 and 4:\n",
    "\n",
    "Use the bisection, secant, and Newton's methods to compute an estimate of $p_0$, where $g\\left(p_0\\right)=$ $0.75$ (and $g$ is defined in the first problem). For each method, report how many iterations are required to compute an estimate $\\hat{p}$ satisfying $\\left|f(\\hat{p})-f\\left(p_0\\right)\\right|<10^{-6}$.\n",
    "\n",
    "Repeat the last problem using Brent's method as described in Chapter $9.3$ of Numerical Recipes in Fortran."
   ]
  },
  {
   "cell_type": "code",
   "execution_count": 98,
   "metadata": {},
   "outputs": [],
   "source": [
    "def g_tilda(p):\n",
    "    return 0.5*p**(-0.5) + 0.5*p**(-0.2) - 0.75"
   ]
  },
  {
   "cell_type": "code",
   "execution_count": 99,
   "metadata": {},
   "outputs": [
    {
     "data": {
      "image/png": "[encoded data removed]",
      "text/plain": [
       "<Figure size 432x288 with 1 Axes>"
      ]
     },
     "metadata": {
      "needs_background": "light"
     },
     "output_type": "display_data"
    }
   ],
   "source": [
    "ax, fig = plt.subplots()\n",
    "plt.plot(np.linspace(1,10,100), g_tilda(np.linspace(1,10,100)), label=\"g(x)-0.75\")\n",
    "plt.plot(np.linspace(1,10,100), g_tilda(np.linspace(1,10,100))*0, label=\"0\")\n",
    "plt.title(\"Root finding\")\n",
    "plt.legend()\n",
    "plt.show()"
   ]
  },
  {
   "cell_type": "code",
   "execution_count": 100,
   "metadata": {},
   "outputs": [],
   "source": [
    "precision = 10**(-6)"
   ]
  },
  {
   "cell_type": "code",
   "execution_count": 101,
   "metadata": {},
   "outputs": [],
   "source": [
    "def secant(x0,x1,e,N):\n",
    "    step = 1\n",
    "    condition = True\n",
    "    while condition:\n",
    "        x2 = x0 - (x1-x0)*g_tilda(x0)/( g_tilda(x1) - g_tilda(x0) ) \n",
    "        x0 = x1\n",
    "        x1 = x2\n",
    "        step = step + 1\n",
    "        if step > N:\n",
    "            print('Max iter achieved')\n",
    "            break\n",
    "        condition = abs(g_tilda(x2)) > e\n",
    "    print('Total Iterations ' + str( step))\n",
    "    print('Root:' + str(x2))"
   ]
  },
  {
   "cell_type": "code",
   "execution_count": 102,
   "metadata": {},
   "outputs": [
    {
     "name": "stdout",
     "output_type": "stream",
     "text": [
      "Total Iterations 6\n",
      "Root:2.327576829233226\n"
     ]
    }
   ],
   "source": [
    "secant(0.1,3,precision,100)"
   ]
  },
  {
   "cell_type": "code",
   "execution_count": 103,
   "metadata": {},
   "outputs": [
    {
     "data": {
      "text/plain": [
       "(2.3275801395267837,\n",
       "       converged: True\n",
       "            flag: 'converged'\n",
       "  function_calls: 12\n",
       "      iterations: 11\n",
       "            root: 2.3275801395267837)"
      ]
     },
     "execution_count": 103,
     "metadata": {},
     "output_type": "execute_result"
    }
   ],
   "source": [
    "scipy.optimize.newton(g_prime, 0.1, fprime=None, args=(), tol=precision, maxiter=100, fprime2=None, x1=None, rtol=0.0, full_output=True, disp=True)"
   ]
  },
  {
   "cell_type": "code",
   "execution_count": 104,
   "metadata": {},
   "outputs": [],
   "source": [
    "def Bisection(f, x_0, x_1, precision, steps): \n",
    "    \n",
    "    if np.sign(f(x_0)) == np.sign(f(x_1)):\n",
    "        raise Exception(\"Cannot bracket root\")\n",
    "    m = (x_0 + x_1)/2\n",
    "    if np.abs(f(m)) < precision:\n",
    "        return m, steps\n",
    "    elif np.sign(f(x_0)) == np.sign(f(m)):\n",
    "        return Bisection(f, m, x_1, precision, (steps + 1))\n",
    "    elif np.sign(f(x_1)) == np.sign(f(m)):\n",
    "        return Bisection(f, x_0, m, precision, (steps + 1))"
   ]
  },
  {
   "cell_type": "code",
   "execution_count": 105,
   "metadata": {},
   "outputs": [
    {
     "data": {
      "text/plain": [
       "(2.3275806427001955, 17)"
      ]
     },
     "execution_count": 105,
     "metadata": {},
     "output_type": "execute_result"
    }
   ],
   "source": [
    "Bisection(g_prime, 0.1, 3, precision, 0)"
   ]
  },
  {
   "cell_type": "code",
   "execution_count": 106,
   "metadata": {},
   "outputs": [
    {
     "data": {
      "text/plain": [
       "(2.3275801395268103,\n",
       "       converged: True\n",
       "            flag: 'converged'\n",
       "  function_calls: 9\n",
       "      iterations: 8\n",
       "            root: 2.3275801395268103)"
      ]
     },
     "execution_count": 106,
     "metadata": {},
     "output_type": "execute_result"
    }
   ],
   "source": [
    "scipy.optimize.brentq(g_prime, 0.1, 3, args=(), xtol=2e-12, rtol=8.881784197001252e-16, maxiter=100, full_output=True, disp=True)"
   ]
  },
  {
   "cell_type": "markdown",
   "metadata": {},
   "source": [
    "Iterations needed to compute ${\\hat{p}}$:\n",
    "\n",
    "|Method|Iterations|\n",
    "| ---- | ----     |\n",
    "|Newton's      |     11     |\n",
    "|Bisection     |    17     |\n",
    "|Secant        |   6      |\n",
    "|Brent's      |    8  |"
   ]
  },
  {
   "cell_type": "markdown",
   "metadata": {},
   "source": [
    "For a detailed explanation about what each algorithm does see attached pdf. The 2 Methods that are always well defined are Brent's and the Bisection. BIsection method is in general the slowest. When working with well behaved functions, NW is the fastest algorithm. Brent combines all of the above with an inverse quadratic equation for iterations that satisfy certain conditions."
   ]
  },
  {
   "cell_type": "markdown",
   "metadata": {},
   "source": [
    "Exercise 5"
   ]
  },
  {
   "cell_type": "code",
   "execution_count": 88,
   "metadata": {},
   "outputs": [],
   "source": [
    "# Define Parameters:\n",
    "n_k = np.linspace(30,500, dtype=int) # Grids for capitals\n",
    "n_A = 15  # Markov States.\n",
    "δ = 0.9   # Depreciation.\n",
    "α = 0.7   # Capital Share.\n",
    "ρ = 0.98  # Memory of income.\n",
    "σ = 0.01  # Volatility of income.\n",
    "β = 0.98\n",
    "error = 10e-6 # Error tolerance.\n",
    "# Construct the markov chain using rouwenhorst method:\n",
    "markov = qe.markov.approximation.rouwenhorst(n= n_A, ybar = 1-ρ, sigma=σ, rho= ρ)\n",
    "# Probability matrix and states:\n",
    "# note that element (i,j) of P represents the transition probability\n",
    "# of going to state \"j\" given that we are in state \"i\".\n",
    "Π = markov.P   \n",
    "A = markov.state_values  \n",
    "# Maximum sustainable Capital:\n",
    "K_max = (A[-1]/δ)**(1/(1-α))\n",
    "K_min = (A[0]/δ)**(1/(1-α)) * 0.25\n",
    "# Capital grid a column vector:\n",
    "K = np.linspace(K_min, K_max, n_k[0])\n",
    "# Utility function\n",
    "def U(c):\n",
    "    if (c>=0).all()>0.0001:\n",
    "        return 0.5*((c)**(0.5))\n",
    "    else:\n",
    "        return np.where(c <= 0.0001, -10e5, 0.5*(c)**(0.5))\n",
    "# Convergence criteria:\n",
    "#''' Inputs: Matrices of optimal capital for the n and n+1 iteration.\n",
    "#    Outputs: Maximum differences between both '''\n",
    "#def CC(k_0, k_1):\n",
    "#    return np.nanmax()"
   ]
  },
  {
   "cell_type": "code",
   "execution_count": 116,
   "metadata": {},
   "outputs": [
    {
     "name": "stderr",
     "output_type": "stream",
     "text": [
      "C:\\Users\\Hogar\\AppData\\Local\\Temp\\ipykernel_19104\\3551243856.py:27: RuntimeWarning: invalid value encountered in sqrt\n",
      "  return np.where(c <= 0.0001, -10e5, 0.5*(c)**(0.5))\n"
     ]
    },
    {
     "name": "stdout",
     "output_type": "stream",
     "text": [
      "Solution Found\n",
      "Iterations 486\n",
      "Error 9.883246606889884e-06\n"
     ]
    }
   ],
   "source": [
    "\n",
    "\n",
    "while iter < max_iter:\n",
    "    for r in range(n_A):\n",
    "        for c in range(n_k[C]):\n",
    "            V_1[r,c] = np.amax(U( A[r] * K[c]**α + (1-δ) * K[c] - K) + β * Π[r,:] @ V_0)\n",
    "            h_1[r,c] = np.argmax(U( A[r] * K[c]**α + (1-δ) * K[c] - K) + β * Π[r,:] @ V_0)\n",
    "    if np.amax(np.abs(V_1 - V_0))< error:\n",
    "        print(\"Solution Found\")\n",
    "        print(f'Iterations', iter)\n",
    "        print(f'Error', np.amax(np.abs(V_1 - V_0)))\n",
    "        break\n",
    "    else:\n",
    "        V_0 = np.copy(V_1)\n",
    "        iter += 1\n",
    "        if iter >= max_iter:\n",
    "            print(\"No solution\")"
   ]
  },
  {
   "cell_type": "code",
   "execution_count": 1,
   "metadata": {},
   "outputs": [],
   "source": [
    "import quantecon as qe\n",
    "import numpy as np\n",
    "import scipy\n",
    "import matplotlib.pyplot as plt\n",
    "from scipy.interpolate import CubicSpline\n",
    "from scipy import optimize"
   ]
  },
  {
   "cell_type": "code",
   "execution_count": 2,
   "metadata": {},
   "outputs": [
    {
     "name": "stderr",
     "output_type": "stream",
     "text": [
      "C:\\Users\\Hogar\\AppData\\Local\\Temp\\ipykernel_17580\\4132327118.py:33: RuntimeWarning: invalid value encountered in sqrt\n",
      "  return np.where(c <= 0.0001, -10e5, 0.5*(c)**(0.5))\n"
     ]
    },
    {
     "name": "stdout",
     "output_type": "stream",
     "text": [
      "Solution Found\n",
      "Iterations 486\n",
      "Error 9.86491967580605e-06\n"
     ]
    },
    {
     "data": {
      "text/plain": [
       "(array([[ 9.97322147,  9.97376179,  9.97536632,  9.97798796,  9.98155469,\n",
       "          9.9862673 ,  9.99184885,  9.99810258, 10.00541085, 10.01321844,\n",
       "         10.02185962, 10.03103297, 10.0409262 , 10.05101264, 10.06166108,\n",
       "         10.072607  , 10.08383534, 10.09556336, 10.10732563, 10.11924678,\n",
       "         10.13150071, 10.14377773, 10.156168  , 10.16870103, 10.18123081,\n",
       "         10.19390614, 10.20688963, 10.2193943 , 10.23204825, 10.24467753,\n",
       "         10.2572694 , 10.2699483 , 10.28241087, 10.29503337, 10.30762436,\n",
       "         10.32003826, 10.33243844, 10.34481148, 10.35721712, 10.36956502,\n",
       "         10.3817716 , 10.39393883, 10.40596033, 10.41809689, 10.43002622,\n",
       "         10.44203092, 10.45396964, 10.46580485, 10.47765815, 10.48933586,\n",
       "         10.50101681, 10.51254786, 10.52415238, 10.53554658, 10.54696721,\n",
       "         10.55833157, 10.56972321, 10.58086968],\n",
       "        [ 9.97322147,  9.97376179,  9.97536632,  9.97798796,  9.98155469,\n",
       "          9.9862673 ,  9.99184885,  9.99810258, 10.00541085, 10.01321844,\n",
       "         10.02185962, 10.03103297, 10.0409262 , 10.05101264, 10.06166108,\n",
       "         10.072607  , 10.08383534, 10.09556336, 10.10732563, 10.11924678,\n",
       "         10.13150071, 10.14377773, 10.156168  , 10.16870103, 10.18123081,\n",
       "         10.19390614, 10.20688963, 10.2193943 , 10.23204825, 10.24467753,\n",
       "         10.2572694 , 10.2699483 , 10.28241087, 10.29503337, 10.30762436,\n",
       "         10.32003826, 10.33243844, 10.34481148, 10.35721712, 10.36956502,\n",
       "         10.3817716 , 10.39393883, 10.40596033, 10.41809689, 10.43002622,\n",
       "         10.44203092, 10.45396964, 10.46580485, 10.47765815, 10.48933586,\n",
       "         10.50101681, 10.51254786, 10.52415238, 10.53554658, 10.54696721,\n",
       "         10.55833157, 10.56972321, 10.58086968],\n",
       "        [ 9.97322147,  9.97376179,  9.97536632,  9.97798796,  9.98155469,\n",
       "          9.9862673 ,  9.99184885,  9.99810258, 10.00541085, 10.01321844,\n",
       "         10.02185962, 10.03103297, 10.0409262 , 10.05101264, 10.06166108,\n",
       "         10.072607  , 10.08383534, 10.09556336, 10.10732563, 10.11924678,\n",
       "         10.13150071, 10.14377773, 10.156168  , 10.16870103, 10.18123081,\n",
       "         10.19390614, 10.20688963, 10.2193943 , 10.23204825, 10.24467753,\n",
       "         10.2572694 , 10.2699483 , 10.28241087, 10.29503337, 10.30762436,\n",
       "         10.32003826, 10.33243844, 10.34481148, 10.35721712, 10.36956502,\n",
       "         10.3817716 , 10.39393883, 10.40596033, 10.41809689, 10.43002622,\n",
       "         10.44203092, 10.45396964, 10.46580485, 10.47765815, 10.48933586,\n",
       "         10.50101681, 10.51254786, 10.52415238, 10.53554658, 10.54696721,\n",
       "         10.55833157, 10.56972321, 10.58086968],\n",
       "        [ 9.97322147,  9.97376179,  9.97536632,  9.97798796,  9.98155469,\n",
       "          9.9862673 ,  9.99184885,  9.99810258, 10.00541085, 10.01321844,\n",
       "         10.02185962, 10.03103297, 10.0409262 , 10.05101264, 10.06166108,\n",
       "         10.072607  , 10.08383534, 10.09556336, 10.10732563, 10.11924678,\n",
       "         10.13150071, 10.14377773, 10.156168  , 10.16870103, 10.18123081,\n",
       "         10.19390614, 10.20688963, 10.2193943 , 10.23204825, 10.24467753,\n",
       "         10.2572694 , 10.2699483 , 10.28241087, 10.29503337, 10.30762436,\n",
       "         10.32003826, 10.33243844, 10.34481148, 10.35721712, 10.36956502,\n",
       "         10.3817716 , 10.39393883, 10.40596033, 10.41809689, 10.43002622,\n",
       "         10.44203092, 10.45396964, 10.46580485, 10.47765815, 10.48933586,\n",
       "         10.50101681, 10.51254786, 10.52415238, 10.53554658, 10.54696721,\n",
       "         10.55833157, 10.56972321, 10.58086968],\n",
       "        [ 9.97322147,  9.97376179,  9.97536632,  9.97798796,  9.98155469,\n",
       "          9.9862673 ,  9.99184885,  9.99810258, 10.00541085, 10.01321844,\n",
       "         10.02185962, 10.03103297, 10.0409262 , 10.05101264, 10.06166108,\n",
       "         10.072607  , 10.08383534, 10.09556336, 10.10732563, 10.11924678,\n",
       "         10.13150071, 10.14377773, 10.156168  , 10.16870103, 10.18123081,\n",
       "         10.19390614, 10.20688963, 10.2193943 , 10.23204825, 10.24467753,\n",
       "         10.2572694 , 10.2699483 , 10.28241087, 10.29503337, 10.30762436,\n",
       "         10.32003826, 10.33243844, 10.34481148, 10.35721712, 10.36956502,\n",
       "         10.3817716 , 10.39393883, 10.40596033, 10.41809689, 10.43002622,\n",
       "         10.44203092, 10.45396964, 10.46580485, 10.47765815, 10.48933586,\n",
       "         10.50101681, 10.51254786, 10.52415238, 10.53554658, 10.54696721,\n",
       "         10.55833157, 10.56972321, 10.58086968],\n",
       "        [ 9.97322147,  9.97376179,  9.97536632,  9.97798796,  9.98155469,\n",
       "          9.9862673 ,  9.99184885,  9.99810258, 10.00541085, 10.01321844,\n",
       "         10.02185962, 10.03103297, 10.0409262 , 10.05101264, 10.06166108,\n",
       "         10.072607  , 10.08383534, 10.09556336, 10.10732563, 10.11924678,\n",
       "         10.13150071, 10.14377773, 10.156168  , 10.16870103, 10.18123081,\n",
       "         10.19390614, 10.20688963, 10.2193943 , 10.23204825, 10.24467753,\n",
       "         10.2572694 , 10.2699483 , 10.28241087, 10.29503337, 10.30762436,\n",
       "         10.32003826, 10.33243844, 10.34481148, 10.35721712, 10.36956502,\n",
       "         10.3817716 , 10.39393883, 10.40596033, 10.41809689, 10.43002622,\n",
       "         10.44203092, 10.45396964, 10.46580485, 10.47765815, 10.48933586,\n",
       "         10.50101681, 10.51254786, 10.52415238, 10.53554658, 10.54696721,\n",
       "         10.55833157, 10.56972321, 10.58086968],\n",
       "        [ 9.97322147,  9.97376179,  9.97536632,  9.97798796,  9.98155469,\n",
       "          9.9862673 ,  9.99184885,  9.99810258, 10.00541085, 10.01321844,\n",
       "         10.02185962, 10.03103297, 10.0409262 , 10.05101264, 10.06166108,\n",
       "         10.072607  , 10.08383534, 10.09556336, 10.10732563, 10.11924678,\n",
       "         10.13150071, 10.14377773, 10.156168  , 10.16870103, 10.18123081,\n",
       "         10.19390614, 10.20688963, 10.2193943 , 10.23204825, 10.24467753,\n",
       "         10.2572694 , 10.2699483 , 10.28241087, 10.29503337, 10.30762436,\n",
       "         10.32003826, 10.33243844, 10.34481148, 10.35721712, 10.36956502,\n",
       "         10.3817716 , 10.39393883, 10.40596033, 10.41809689, 10.43002622,\n",
       "         10.44203092, 10.45396964, 10.46580485, 10.47765815, 10.48933586,\n",
       "         10.50101681, 10.51254786, 10.52415238, 10.53554658, 10.54696721,\n",
       "         10.55833157, 10.56972321, 10.58086968],\n",
       "        [ 9.97322147,  9.97376179,  9.97536632,  9.97798796,  9.98155469,\n",
       "          9.9862673 ,  9.99184885,  9.99810258, 10.00541085, 10.01321844,\n",
       "         10.02185962, 10.03103297, 10.0409262 , 10.05101264, 10.06166108,\n",
       "         10.072607  , 10.08383534, 10.09556336, 10.10732563, 10.11924678,\n",
       "         10.13150071, 10.14377773, 10.156168  , 10.16870103, 10.18123081,\n",
       "         10.19390614, 10.20688963, 10.2193943 , 10.23204825, 10.24467753,\n",
       "         10.2572694 , 10.2699483 , 10.28241087, 10.29503337, 10.30762436,\n",
       "         10.32003826, 10.33243844, 10.34481148, 10.35721712, 10.36956502,\n",
       "         10.3817716 , 10.39393883, 10.40596033, 10.41809689, 10.43002622,\n",
       "         10.44203092, 10.45396964, 10.46580485, 10.47765815, 10.48933586,\n",
       "         10.50101681, 10.51254786, 10.52415238, 10.53554658, 10.54696721,\n",
       "         10.55833157, 10.56972321, 10.58086968],\n",
       "        [ 9.97322147,  9.97376179,  9.97536632,  9.97798796,  9.98155469,\n",
       "          9.9862673 ,  9.99184885,  9.99810258, 10.00541085, 10.01321844,\n",
       "         10.02185962, 10.03103297, 10.0409262 , 10.05101264, 10.06166108,\n",
       "         10.072607  , 10.08383534, 10.09556336, 10.10732563, 10.11924678,\n",
       "         10.13150071, 10.14377773, 10.156168  , 10.16870103, 10.18123081,\n",
       "         10.19390614, 10.20688963, 10.2193943 , 10.23204825, 10.24467753,\n",
       "         10.2572694 , 10.2699483 , 10.28241087, 10.29503337, 10.30762436,\n",
       "         10.32003826, 10.33243844, 10.34481148, 10.35721712, 10.36956502,\n",
       "         10.3817716 , 10.39393883, 10.40596033, 10.41809689, 10.43002622,\n",
       "         10.44203092, 10.45396964, 10.46580485, 10.47765815, 10.48933586,\n",
       "         10.50101681, 10.51254786, 10.52415238, 10.53554658, 10.54696721,\n",
       "         10.55833157, 10.56972321, 10.58086968],\n",
       "        [ 9.97322147,  9.97376179,  9.97536632,  9.97798796,  9.98155469,\n",
       "          9.9862673 ,  9.99184885,  9.99810258, 10.00541085, 10.01321844,\n",
       "         10.02185962, 10.03103297, 10.0409262 , 10.05101264, 10.06166108,\n",
       "         10.072607  , 10.08383534, 10.09556336, 10.10732563, 10.11924678,\n",
       "         10.13150071, 10.14377773, 10.156168  , 10.16870103, 10.18123081,\n",
       "         10.19390614, 10.20688963, 10.2193943 , 10.23204825, 10.24467753,\n",
       "         10.2572694 , 10.2699483 , 10.28241087, 10.29503337, 10.30762436,\n",
       "         10.32003826, 10.33243844, 10.34481148, 10.35721712, 10.36956502,\n",
       "         10.3817716 , 10.39393883, 10.40596033, 10.41809689, 10.43002622,\n",
       "         10.44203092, 10.45396964, 10.46580485, 10.47765815, 10.48933586,\n",
       "         10.50101681, 10.51254786, 10.52415238, 10.53554658, 10.54696721,\n",
       "         10.55833157, 10.56972321, 10.58086968],\n",
       "        [ 9.97322147,  9.97376179,  9.97536632,  9.97798796,  9.98155469,\n",
       "          9.9862673 ,  9.99184885,  9.99810258, 10.00541085, 10.01321844,\n",
       "         10.02185962, 10.03103297, 10.0409262 , 10.05101264, 10.06166108,\n",
       "         10.072607  , 10.08383534, 10.09556336, 10.10732563, 10.11924678,\n",
       "         10.13150071, 10.14377773, 10.156168  , 10.16870103, 10.18123081,\n",
       "         10.19390614, 10.20688963, 10.2193943 , 10.23204825, 10.24467753,\n",
       "         10.2572694 , 10.2699483 , 10.28241087, 10.29503337, 10.30762436,\n",
       "         10.32003826, 10.33243844, 10.34481148, 10.35721712, 10.36956502,\n",
       "         10.3817716 , 10.39393883, 10.40596033, 10.41809689, 10.43002622,\n",
       "         10.44203092, 10.45396964, 10.46580485, 10.47765815, 10.48933586,\n",
       "         10.50101681, 10.51254786, 10.52415238, 10.53554658, 10.54696721,\n",
       "         10.55833157, 10.56972321, 10.58086968],\n",
       "        [ 9.97322147,  9.97376179,  9.97536632,  9.97798796,  9.98155469,\n",
       "          9.9862673 ,  9.99184885,  9.99810258, 10.00541085, 10.01321844,\n",
       "         10.02185962, 10.03103297, 10.0409262 , 10.05101264, 10.06166108,\n",
       "         10.072607  , 10.08383534, 10.09556336, 10.10732563, 10.11924678,\n",
       "         10.13150071, 10.14377773, 10.156168  , 10.16870103, 10.18123081,\n",
       "         10.19390614, 10.20688963, 10.2193943 , 10.23204825, 10.24467753,\n",
       "         10.2572694 , 10.2699483 , 10.28241087, 10.29503337, 10.30762436,\n",
       "         10.32003826, 10.33243844, 10.34481148, 10.35721712, 10.36956502,\n",
       "         10.3817716 , 10.39393883, 10.40596033, 10.41809689, 10.43002622,\n",
       "         10.44203092, 10.45396964, 10.46580485, 10.47765815, 10.48933586,\n",
       "         10.50101681, 10.51254786, 10.52415238, 10.53554658, 10.54696721,\n",
       "         10.55833157, 10.56972321, 10.58086968],\n",
       "        [ 9.97322147,  9.97376179,  9.97536632,  9.97798796,  9.98155469,\n",
       "          9.9862673 ,  9.99184885,  9.99810258, 10.00541085, 10.01321844,\n",
       "         10.02185962, 10.03103297, 10.0409262 , 10.05101264, 10.06166108,\n",
       "         10.072607  , 10.08383534, 10.09556336, 10.10732563, 10.11924678,\n",
       "         10.13150071, 10.14377773, 10.156168  , 10.16870103, 10.18123081,\n",
       "         10.19390614, 10.20688963, 10.2193943 , 10.23204825, 10.24467753,\n",
       "         10.2572694 , 10.2699483 , 10.28241087, 10.29503337, 10.30762436,\n",
       "         10.32003826, 10.33243844, 10.34481148, 10.35721712, 10.36956502,\n",
       "         10.3817716 , 10.39393883, 10.40596033, 10.41809689, 10.43002622,\n",
       "         10.44203092, 10.45396964, 10.46580485, 10.47765815, 10.48933586,\n",
       "         10.50101681, 10.51254786, 10.52415238, 10.53554658, 10.54696721,\n",
       "         10.55833157, 10.56972321, 10.58086968],\n",
       "        [ 9.97322147,  9.97376179,  9.97536632,  9.97798796,  9.98155469,\n",
       "          9.9862673 ,  9.99184885,  9.99810258, 10.00541085, 10.01321844,\n",
       "         10.02185962, 10.03103297, 10.0409262 , 10.05101264, 10.06166108,\n",
       "         10.072607  , 10.08383534, 10.09556336, 10.10732563, 10.11924678,\n",
       "         10.13150071, 10.14377773, 10.156168  , 10.16870103, 10.18123081,\n",
       "         10.19390614, 10.20688963, 10.2193943 , 10.23204825, 10.24467753,\n",
       "         10.2572694 , 10.2699483 , 10.28241087, 10.29503337, 10.30762436,\n",
       "         10.32003826, 10.33243844, 10.34481148, 10.35721712, 10.36956502,\n",
       "         10.3817716 , 10.39393883, 10.40596033, 10.41809689, 10.43002622,\n",
       "         10.44203092, 10.45396964, 10.46580485, 10.47765815, 10.48933586,\n",
       "         10.50101681, 10.51254786, 10.52415238, 10.53554658, 10.54696721,\n",
       "         10.55833157, 10.56972321, 10.58086968],\n",
       "        [ 9.97322147,  9.97376179,  9.97536632,  9.97798796,  9.98155469,\n",
       "          9.9862673 ,  9.99184885,  9.99810258, 10.00541085, 10.01321844,\n",
       "         10.02185962, 10.03103297, 10.0409262 , 10.05101264, 10.06166108,\n",
       "         10.072607  , 10.08383534, 10.09556336, 10.10732563, 10.11924678,\n",
       "         10.13150071, 10.14377773, 10.156168  , 10.16870103, 10.18123081,\n",
       "         10.19390614, 10.20688963, 10.2193943 , 10.23204825, 10.24467753,\n",
       "         10.2572694 , 10.2699483 , 10.28241087, 10.29503337, 10.30762436,\n",
       "         10.32003826, 10.33243844, 10.34481148, 10.35721712, 10.36956502,\n",
       "         10.3817716 , 10.39393883, 10.40596033, 10.41809689, 10.43002622,\n",
       "         10.44203092, 10.45396964, 10.46580485, 10.47765815, 10.48933586,\n",
       "         10.50101681, 10.51254786, 10.52415238, 10.53554658, 10.54696721,\n",
       "         10.55833157, 10.56972321, 10.58086968]]),\n",
       " array([[13, 13, 13, 13, 13, 14, 14, 14, 15, 15, 16, 17, 17, 18, 18, 19,\n",
       "         20, 20, 21, 21, 22, 23, 23, 24, 25, 26, 26, 26, 27, 28, 28, 29,\n",
       "         30, 30, 31, 31, 32, 33, 33, 34, 34, 35, 35, 36, 37, 37, 38, 38,\n",
       "         39, 39, 40, 40, 41, 41, 42, 43, 43, 43],\n",
       "        [13, 13, 13, 13, 13, 14, 14, 14, 15, 15, 16, 17, 17, 18, 18, 19,\n",
       "         20, 20, 21, 21, 22, 23, 23, 24, 25, 26, 26, 26, 27, 28, 28, 29,\n",
       "         30, 30, 31, 31, 32, 33, 33, 34, 34, 35, 35, 36, 37, 37, 38, 38,\n",
       "         39, 39, 40, 40, 41, 41, 42, 43, 43, 43],\n",
       "        [13, 13, 13, 13, 13, 14, 14, 14, 15, 15, 16, 17, 17, 18, 18, 19,\n",
       "         20, 20, 21, 21, 22, 23, 23, 24, 25, 26, 26, 26, 27, 28, 28, 29,\n",
       "         30, 30, 31, 31, 32, 33, 33, 34, 34, 35, 35, 36, 37, 37, 38, 38,\n",
       "         39, 39, 40, 40, 41, 41, 42, 43, 43, 43],\n",
       "        [13, 13, 13, 13, 13, 14, 14, 14, 15, 15, 16, 17, 17, 18, 18, 19,\n",
       "         20, 20, 21, 21, 22, 23, 23, 24, 25, 26, 26, 26, 27, 28, 28, 29,\n",
       "         30, 30, 31, 31, 32, 33, 33, 34, 34, 35, 35, 36, 37, 37, 38, 38,\n",
       "         39, 39, 40, 40, 41, 41, 42, 43, 43, 43],\n",
       "        [13, 13, 13, 13, 13, 14, 14, 14, 15, 15, 16, 17, 17, 18, 18, 19,\n",
       "         20, 20, 21, 21, 22, 23, 23, 24, 25, 26, 26, 26, 27, 28, 28, 29,\n",
       "         30, 30, 31, 31, 32, 33, 33, 34, 34, 35, 35, 36, 37, 37, 38, 38,\n",
       "         39, 39, 40, 40, 41, 41, 42, 43, 43, 43],\n",
       "        [13, 13, 13, 13, 13, 14, 14, 14, 15, 15, 16, 17, 17, 18, 18, 19,\n",
       "         20, 20, 21, 21, 22, 23, 23, 24, 25, 26, 26, 26, 27, 28, 28, 29,\n",
       "         30, 30, 31, 31, 32, 33, 33, 34, 34, 35, 35, 36, 37, 37, 38, 38,\n",
       "         39, 39, 40, 40, 41, 41, 42, 43, 43, 43],\n",
       "        [13, 13, 13, 13, 13, 14, 14, 14, 15, 15, 16, 17, 17, 18, 18, 19,\n",
       "         20, 20, 21, 21, 22, 23, 23, 24, 25, 26, 26, 26, 27, 28, 28, 29,\n",
       "         30, 30, 31, 31, 32, 33, 33, 34, 34, 35, 35, 36, 37, 37, 38, 38,\n",
       "         39, 39, 40, 40, 41, 41, 42, 43, 43, 43],\n",
       "        [13, 13, 13, 13, 13, 14, 14, 14, 15, 15, 16, 17, 17, 18, 18, 19,\n",
       "         20, 20, 21, 21, 22, 23, 23, 24, 25, 26, 26, 26, 27, 28, 28, 29,\n",
       "         30, 30, 31, 31, 32, 33, 33, 34, 34, 35, 35, 36, 37, 37, 38, 38,\n",
       "         39, 39, 40, 40, 41, 41, 42, 43, 43, 43],\n",
       "        [13, 13, 13, 13, 13, 14, 14, 14, 15, 15, 16, 17, 17, 18, 18, 19,\n",
       "         20, 20, 21, 21, 22, 23, 23, 24, 25, 26, 26, 26, 27, 28, 28, 29,\n",
       "         30, 30, 31, 31, 32, 33, 33, 34, 34, 35, 35, 36, 37, 37, 38, 38,\n",
       "         39, 39, 40, 40, 41, 41, 42, 43, 43, 43],\n",
       "        [13, 13, 13, 13, 13, 14, 14, 14, 15, 15, 16, 17, 17, 18, 18, 19,\n",
       "         20, 20, 21, 21, 22, 23, 23, 24, 25, 26, 26, 26, 27, 28, 28, 29,\n",
       "         30, 30, 31, 31, 32, 33, 33, 34, 34, 35, 35, 36, 37, 37, 38, 38,\n",
       "         39, 39, 40, 40, 41, 41, 42, 43, 43, 43],\n",
       "        [13, 13, 13, 13, 13, 14, 14, 14, 15, 15, 16, 17, 17, 18, 18, 19,\n",
       "         20, 20, 21, 21, 22, 23, 23, 24, 25, 26, 26, 26, 27, 28, 28, 29,\n",
       "         30, 30, 31, 31, 32, 33, 33, 34, 34, 35, 35, 36, 37, 37, 38, 38,\n",
       "         39, 39, 40, 40, 41, 41, 42, 43, 43, 43],\n",
       "        [13, 13, 13, 13, 13, 14, 14, 14, 15, 15, 16, 17, 17, 18, 18, 19,\n",
       "         20, 20, 21, 21, 22, 23, 23, 24, 25, 26, 26, 26, 27, 28, 28, 29,\n",
       "         30, 30, 31, 31, 32, 33, 33, 34, 34, 35, 35, 36, 37, 37, 38, 38,\n",
       "         39, 39, 40, 40, 41, 41, 42, 43, 43, 43],\n",
       "        [13, 13, 13, 13, 13, 14, 14, 14, 15, 15, 16, 17, 17, 18, 18, 19,\n",
       "         20, 20, 21, 21, 22, 23, 23, 24, 25, 26, 26, 26, 27, 28, 28, 29,\n",
       "         30, 30, 31, 31, 32, 33, 33, 34, 34, 35, 35, 36, 37, 37, 38, 38,\n",
       "         39, 39, 40, 40, 41, 41, 42, 43, 43, 43],\n",
       "        [13, 13, 13, 13, 13, 14, 14, 14, 15, 15, 16, 17, 17, 18, 18, 19,\n",
       "         20, 20, 21, 21, 22, 23, 23, 24, 25, 26, 26, 26, 27, 28, 28, 29,\n",
       "         30, 30, 31, 31, 32, 33, 33, 34, 34, 35, 35, 36, 37, 37, 38, 38,\n",
       "         39, 39, 40, 40, 41, 41, 42, 43, 43, 43],\n",
       "        [13, 13, 13, 13, 13, 14, 14, 14, 15, 15, 16, 17, 17, 18, 18, 19,\n",
       "         20, 20, 21, 21, 22, 23, 23, 24, 25, 26, 26, 26, 27, 28, 28, 29,\n",
       "         30, 30, 31, 31, 32, 33, 33, 34, 34, 35, 35, 36, 37, 37, 38, 38,\n",
       "         39, 39, 40, 40, 41, 41, 42, 43, 43, 43]]),\n",
       " array([[0.20859007, 0.20859007, 0.20859007, 0.20859007, 0.20859007,\n",
       "         0.21921636, 0.21921636, 0.21921636, 0.23062978, 0.23062978,\n",
       "         0.24283033, 0.25581801, 0.25581801, 0.26959283, 0.26959283,\n",
       "         0.28415478, 0.29950386, 0.29950386, 0.31564007, 0.31564007,\n",
       "         0.33256342, 0.3502739 , 0.3502739 , 0.36877151, 0.38805625,\n",
       "         0.40812812, 0.40812812, 0.40812812, 0.42898713, 0.45063327,\n",
       "         0.45063327, 0.47306654, 0.49628695, 0.49628695, 0.52029448,\n",
       "         0.52029448, 0.54508915, 0.57067095, 0.57067095, 0.59703989,\n",
       "         0.59703989, 0.62419595, 0.62419595, 0.65213915, 0.68086948,\n",
       "         0.68086948, 0.71038695, 0.71038695, 0.74069154, 0.74069154,\n",
       "         0.77178327, 0.77178327, 0.80366213, 0.80366213, 0.83632812,\n",
       "         0.86978125, 0.86978125, 0.86978125],\n",
       "        [0.20859007, 0.20859007, 0.20859007, 0.20859007, 0.20859007,\n",
       "         0.21921636, 0.21921636, 0.21921636, 0.23062978, 0.23062978,\n",
       "         0.24283033, 0.25581801, 0.25581801, 0.26959283, 0.26959283,\n",
       "         0.28415478, 0.29950386, 0.29950386, 0.31564007, 0.31564007,\n",
       "         0.33256342, 0.3502739 , 0.3502739 , 0.36877151, 0.38805625,\n",
       "         0.40812812, 0.40812812, 0.40812812, 0.42898713, 0.45063327,\n",
       "         0.45063327, 0.47306654, 0.49628695, 0.49628695, 0.52029448,\n",
       "         0.52029448, 0.54508915, 0.57067095, 0.57067095, 0.59703989,\n",
       "         0.59703989, 0.62419595, 0.62419595, 0.65213915, 0.68086948,\n",
       "         0.68086948, 0.71038695, 0.71038695, 0.74069154, 0.74069154,\n",
       "         0.77178327, 0.77178327, 0.80366213, 0.80366213, 0.83632812,\n",
       "         0.86978125, 0.86978125, 0.86978125],\n",
       "        [0.20859007, 0.20859007, 0.20859007, 0.20859007, 0.20859007,\n",
       "         0.21921636, 0.21921636, 0.21921636, 0.23062978, 0.23062978,\n",
       "         0.24283033, 0.25581801, 0.25581801, 0.26959283, 0.26959283,\n",
       "         0.28415478, 0.29950386, 0.29950386, 0.31564007, 0.31564007,\n",
       "         0.33256342, 0.3502739 , 0.3502739 , 0.36877151, 0.38805625,\n",
       "         0.40812812, 0.40812812, 0.40812812, 0.42898713, 0.45063327,\n",
       "         0.45063327, 0.47306654, 0.49628695, 0.49628695, 0.52029448,\n",
       "         0.52029448, 0.54508915, 0.57067095, 0.57067095, 0.59703989,\n",
       "         0.59703989, 0.62419595, 0.62419595, 0.65213915, 0.68086948,\n",
       "         0.68086948, 0.71038695, 0.71038695, 0.74069154, 0.74069154,\n",
       "         0.77178327, 0.77178327, 0.80366213, 0.80366213, 0.83632812,\n",
       "         0.86978125, 0.86978125, 0.86978125],\n",
       "        [0.20859007, 0.20859007, 0.20859007, 0.20859007, 0.20859007,\n",
       "         0.21921636, 0.21921636, 0.21921636, 0.23062978, 0.23062978,\n",
       "         0.24283033, 0.25581801, 0.25581801, 0.26959283, 0.26959283,\n",
       "         0.28415478, 0.29950386, 0.29950386, 0.31564007, 0.31564007,\n",
       "         0.33256342, 0.3502739 , 0.3502739 , 0.36877151, 0.38805625,\n",
       "         0.40812812, 0.40812812, 0.40812812, 0.42898713, 0.45063327,\n",
       "         0.45063327, 0.47306654, 0.49628695, 0.49628695, 0.52029448,\n",
       "         0.52029448, 0.54508915, 0.57067095, 0.57067095, 0.59703989,\n",
       "         0.59703989, 0.62419595, 0.62419595, 0.65213915, 0.68086948,\n",
       "         0.68086948, 0.71038695, 0.71038695, 0.74069154, 0.74069154,\n",
       "         0.77178327, 0.77178327, 0.80366213, 0.80366213, 0.83632812,\n",
       "         0.86978125, 0.86978125, 0.86978125],\n",
       "        [0.20859007, 0.20859007, 0.20859007, 0.20859007, 0.20859007,\n",
       "         0.21921636, 0.21921636, 0.21921636, 0.23062978, 0.23062978,\n",
       "         0.24283033, 0.25581801, 0.25581801, 0.26959283, 0.26959283,\n",
       "         0.28415478, 0.29950386, 0.29950386, 0.31564007, 0.31564007,\n",
       "         0.33256342, 0.3502739 , 0.3502739 , 0.36877151, 0.38805625,\n",
       "         0.40812812, 0.40812812, 0.40812812, 0.42898713, 0.45063327,\n",
       "         0.45063327, 0.47306654, 0.49628695, 0.49628695, 0.52029448,\n",
       "         0.52029448, 0.54508915, 0.57067095, 0.57067095, 0.59703989,\n",
       "         0.59703989, 0.62419595, 0.62419595, 0.65213915, 0.68086948,\n",
       "         0.68086948, 0.71038695, 0.71038695, 0.74069154, 0.74069154,\n",
       "         0.77178327, 0.77178327, 0.80366213, 0.80366213, 0.83632812,\n",
       "         0.86978125, 0.86978125, 0.86978125],\n",
       "        [0.20859007, 0.20859007, 0.20859007, 0.20859007, 0.20859007,\n",
       "         0.21921636, 0.21921636, 0.21921636, 0.23062978, 0.23062978,\n",
       "         0.24283033, 0.25581801, 0.25581801, 0.26959283, 0.26959283,\n",
       "         0.28415478, 0.29950386, 0.29950386, 0.31564007, 0.31564007,\n",
       "         0.33256342, 0.3502739 , 0.3502739 , 0.36877151, 0.38805625,\n",
       "         0.40812812, 0.40812812, 0.40812812, 0.42898713, 0.45063327,\n",
       "         0.45063327, 0.47306654, 0.49628695, 0.49628695, 0.52029448,\n",
       "         0.52029448, 0.54508915, 0.57067095, 0.57067095, 0.59703989,\n",
       "         0.59703989, 0.62419595, 0.62419595, 0.65213915, 0.68086948,\n",
       "         0.68086948, 0.71038695, 0.71038695, 0.74069154, 0.74069154,\n",
       "         0.77178327, 0.77178327, 0.80366213, 0.80366213, 0.83632812,\n",
       "         0.86978125, 0.86978125, 0.86978125],\n",
       "        [0.20859007, 0.20859007, 0.20859007, 0.20859007, 0.20859007,\n",
       "         0.21921636, 0.21921636, 0.21921636, 0.23062978, 0.23062978,\n",
       "         0.24283033, 0.25581801, 0.25581801, 0.26959283, 0.26959283,\n",
       "         0.28415478, 0.29950386, 0.29950386, 0.31564007, 0.31564007,\n",
       "         0.33256342, 0.3502739 , 0.3502739 , 0.36877151, 0.38805625,\n",
       "         0.40812812, 0.40812812, 0.40812812, 0.42898713, 0.45063327,\n",
       "         0.45063327, 0.47306654, 0.49628695, 0.49628695, 0.52029448,\n",
       "         0.52029448, 0.54508915, 0.57067095, 0.57067095, 0.59703989,\n",
       "         0.59703989, 0.62419595, 0.62419595, 0.65213915, 0.68086948,\n",
       "         0.68086948, 0.71038695, 0.71038695, 0.74069154, 0.74069154,\n",
       "         0.77178327, 0.77178327, 0.80366213, 0.80366213, 0.83632812,\n",
       "         0.86978125, 0.86978125, 0.86978125],\n",
       "        [0.20859007, 0.20859007, 0.20859007, 0.20859007, 0.20859007,\n",
       "         0.21921636, 0.21921636, 0.21921636, 0.23062978, 0.23062978,\n",
       "         0.24283033, 0.25581801, 0.25581801, 0.26959283, 0.26959283,\n",
       "         0.28415478, 0.29950386, 0.29950386, 0.31564007, 0.31564007,\n",
       "         0.33256342, 0.3502739 , 0.3502739 , 0.36877151, 0.38805625,\n",
       "         0.40812812, 0.40812812, 0.40812812, 0.42898713, 0.45063327,\n",
       "         0.45063327, 0.47306654, 0.49628695, 0.49628695, 0.52029448,\n",
       "         0.52029448, 0.54508915, 0.57067095, 0.57067095, 0.59703989,\n",
       "         0.59703989, 0.62419595, 0.62419595, 0.65213915, 0.68086948,\n",
       "         0.68086948, 0.71038695, 0.71038695, 0.74069154, 0.74069154,\n",
       "         0.77178327, 0.77178327, 0.80366213, 0.80366213, 0.83632812,\n",
       "         0.86978125, 0.86978125, 0.86978125],\n",
       "        [0.20859007, 0.20859007, 0.20859007, 0.20859007, 0.20859007,\n",
       "         0.21921636, 0.21921636, 0.21921636, 0.23062978, 0.23062978,\n",
       "         0.24283033, 0.25581801, 0.25581801, 0.26959283, 0.26959283,\n",
       "         0.28415478, 0.29950386, 0.29950386, 0.31564007, 0.31564007,\n",
       "         0.33256342, 0.3502739 , 0.3502739 , 0.36877151, 0.38805625,\n",
       "         0.40812812, 0.40812812, 0.40812812, 0.42898713, 0.45063327,\n",
       "         0.45063327, 0.47306654, 0.49628695, 0.49628695, 0.52029448,\n",
       "         0.52029448, 0.54508915, 0.57067095, 0.57067095, 0.59703989,\n",
       "         0.59703989, 0.62419595, 0.62419595, 0.65213915, 0.68086948,\n",
       "         0.68086948, 0.71038695, 0.71038695, 0.74069154, 0.74069154,\n",
       "         0.77178327, 0.77178327, 0.80366213, 0.80366213, 0.83632812,\n",
       "         0.86978125, 0.86978125, 0.86978125],\n",
       "        [0.20859007, 0.20859007, 0.20859007, 0.20859007, 0.20859007,\n",
       "         0.21921636, 0.21921636, 0.21921636, 0.23062978, 0.23062978,\n",
       "         0.24283033, 0.25581801, 0.25581801, 0.26959283, 0.26959283,\n",
       "         0.28415478, 0.29950386, 0.29950386, 0.31564007, 0.31564007,\n",
       "         0.33256342, 0.3502739 , 0.3502739 , 0.36877151, 0.38805625,\n",
       "         0.40812812, 0.40812812, 0.40812812, 0.42898713, 0.45063327,\n",
       "         0.45063327, 0.47306654, 0.49628695, 0.49628695, 0.52029448,\n",
       "         0.52029448, 0.54508915, 0.57067095, 0.57067095, 0.59703989,\n",
       "         0.59703989, 0.62419595, 0.62419595, 0.65213915, 0.68086948,\n",
       "         0.68086948, 0.71038695, 0.71038695, 0.74069154, 0.74069154,\n",
       "         0.77178327, 0.77178327, 0.80366213, 0.80366213, 0.83632812,\n",
       "         0.86978125, 0.86978125, 0.86978125],\n",
       "        [0.20859007, 0.20859007, 0.20859007, 0.20859007, 0.20859007,\n",
       "         0.21921636, 0.21921636, 0.21921636, 0.23062978, 0.23062978,\n",
       "         0.24283033, 0.25581801, 0.25581801, 0.26959283, 0.26959283,\n",
       "         0.28415478, 0.29950386, 0.29950386, 0.31564007, 0.31564007,\n",
       "         0.33256342, 0.3502739 , 0.3502739 , 0.36877151, 0.38805625,\n",
       "         0.40812812, 0.40812812, 0.40812812, 0.42898713, 0.45063327,\n",
       "         0.45063327, 0.47306654, 0.49628695, 0.49628695, 0.52029448,\n",
       "         0.52029448, 0.54508915, 0.57067095, 0.57067095, 0.59703989,\n",
       "         0.59703989, 0.62419595, 0.62419595, 0.65213915, 0.68086948,\n",
       "         0.68086948, 0.71038695, 0.71038695, 0.74069154, 0.74069154,\n",
       "         0.77178327, 0.77178327, 0.80366213, 0.80366213, 0.83632812,\n",
       "         0.86978125, 0.86978125, 0.86978125],\n",
       "        [0.20859007, 0.20859007, 0.20859007, 0.20859007, 0.20859007,\n",
       "         0.21921636, 0.21921636, 0.21921636, 0.23062978, 0.23062978,\n",
       "         0.24283033, 0.25581801, 0.25581801, 0.26959283, 0.26959283,\n",
       "         0.28415478, 0.29950386, 0.29950386, 0.31564007, 0.31564007,\n",
       "         0.33256342, 0.3502739 , 0.3502739 , 0.36877151, 0.38805625,\n",
       "         0.40812812, 0.40812812, 0.40812812, 0.42898713, 0.45063327,\n",
       "         0.45063327, 0.47306654, 0.49628695, 0.49628695, 0.52029448,\n",
       "         0.52029448, 0.54508915, 0.57067095, 0.57067095, 0.59703989,\n",
       "         0.59703989, 0.62419595, 0.62419595, 0.65213915, 0.68086948,\n",
       "         0.68086948, 0.71038695, 0.71038695, 0.74069154, 0.74069154,\n",
       "         0.77178327, 0.77178327, 0.80366213, 0.80366213, 0.83632812,\n",
       "         0.86978125, 0.86978125, 0.86978125],\n",
       "        [0.20859007, 0.20859007, 0.20859007, 0.20859007, 0.20859007,\n",
       "         0.21921636, 0.21921636, 0.21921636, 0.23062978, 0.23062978,\n",
       "         0.24283033, 0.25581801, 0.25581801, 0.26959283, 0.26959283,\n",
       "         0.28415478, 0.29950386, 0.29950386, 0.31564007, 0.31564007,\n",
       "         0.33256342, 0.3502739 , 0.3502739 , 0.36877151, 0.38805625,\n",
       "         0.40812812, 0.40812812, 0.40812812, 0.42898713, 0.45063327,\n",
       "         0.45063327, 0.47306654, 0.49628695, 0.49628695, 0.52029448,\n",
       "         0.52029448, 0.54508915, 0.57067095, 0.57067095, 0.59703989,\n",
       "         0.59703989, 0.62419595, 0.62419595, 0.65213915, 0.68086948,\n",
       "         0.68086948, 0.71038695, 0.71038695, 0.74069154, 0.74069154,\n",
       "         0.77178327, 0.77178327, 0.80366213, 0.80366213, 0.83632812,\n",
       "         0.86978125, 0.86978125, 0.86978125],\n",
       "        [0.20859007, 0.20859007, 0.20859007, 0.20859007, 0.20859007,\n",
       "         0.21921636, 0.21921636, 0.21921636, 0.23062978, 0.23062978,\n",
       "         0.24283033, 0.25581801, 0.25581801, 0.26959283, 0.26959283,\n",
       "         0.28415478, 0.29950386, 0.29950386, 0.31564007, 0.31564007,\n",
       "         0.33256342, 0.3502739 , 0.3502739 , 0.36877151, 0.38805625,\n",
       "         0.40812812, 0.40812812, 0.40812812, 0.42898713, 0.45063327,\n",
       "         0.45063327, 0.47306654, 0.49628695, 0.49628695, 0.52029448,\n",
       "         0.52029448, 0.54508915, 0.57067095, 0.57067095, 0.59703989,\n",
       "         0.59703989, 0.62419595, 0.62419595, 0.65213915, 0.68086948,\n",
       "         0.68086948, 0.71038695, 0.71038695, 0.74069154, 0.74069154,\n",
       "         0.77178327, 0.77178327, 0.80366213, 0.80366213, 0.83632812,\n",
       "         0.86978125, 0.86978125, 0.86978125],\n",
       "        [0.20859007, 0.20859007, 0.20859007, 0.20859007, 0.20859007,\n",
       "         0.21921636, 0.21921636, 0.21921636, 0.23062978, 0.23062978,\n",
       "         0.24283033, 0.25581801, 0.25581801, 0.26959283, 0.26959283,\n",
       "         0.28415478, 0.29950386, 0.29950386, 0.31564007, 0.31564007,\n",
       "         0.33256342, 0.3502739 , 0.3502739 , 0.36877151, 0.38805625,\n",
       "         0.40812812, 0.40812812, 0.40812812, 0.42898713, 0.45063327,\n",
       "         0.45063327, 0.47306654, 0.49628695, 0.49628695, 0.52029448,\n",
       "         0.52029448, 0.54508915, 0.57067095, 0.57067095, 0.59703989,\n",
       "         0.59703989, 0.62419595, 0.62419595, 0.65213915, 0.68086948,\n",
       "         0.68086948, 0.71038695, 0.71038695, 0.74069154, 0.74069154,\n",
       "         0.77178327, 0.77178327, 0.80366213, 0.80366213, 0.83632812,\n",
       "         0.86978125, 0.86978125, 0.86978125]]))"
      ]
     },
     "execution_count": 2,
     "metadata": {},
     "output_type": "execute_result"
    }
   ],
   "source": [
    "#Non stochastic economy:\n",
    "\n",
    "# Compute the value function for the Non-stochastic economy first, and an obtain the policies. Them we can apply the algorithm for exercise a).\n",
    "\n",
    "# Define Parameters:\n",
    "n_k = np.linspace(30,500, dtype=int) # Grids for capitals\n",
    "n_A = 15  # Markov States.\n",
    "δ = 0.9   # Depreciation.\n",
    "α = 0.7   # Capital Share.\n",
    "ρ = 0.98  # Memory of income.\n",
    "σ = 0.0  # Volatility of income.\n",
    "β = 0.98  #Discont factor.\n",
    "C = 3 # Choice of grid fo capital.\n",
    "θ = 2 # Expanding grid coefficient.\n",
    "error = 10e-6 # Error tolerance.\n",
    "# Construct the markov chain using rouwenhorst method:\n",
    "markov = qe.markov.approximation.rouwenhorst(n= n_A, ybar = 1-ρ, sigma=σ, rho= ρ)\n",
    "# Probability matrix and states:\n",
    "# note that element (i,j) of P represents the transition probability\n",
    "# of going to state \"j\" given that we are in state \"i\".\n",
    "Π = markov.P   \n",
    "A = markov.state_values  \n",
    "# Maximum sustainable Capital:\n",
    "K_max = (A[-1]/δ)**(1/(1-α))\n",
    "K_min = (A[0]/δ)**(1/(1-α)) * 0.1\n",
    "# Use and expanding grid:\n",
    "K = K_min + (K_max - K_min) * (np.linspace(0, 1, n_k[C])**θ)\n",
    "# Utility function\n",
    "def U(c):\n",
    "    if (c>=0).all()>0.0001:\n",
    "        return 0.5*((c)**(0.5))\n",
    "    else:\n",
    "        return np.where(c <= 0.0001, -10e5, 0.5*(c)**(0.5))\n",
    "# Convergence criteria:\n",
    "#''' Inputs: Matrices of optimal capital for the n and n+1 iteration.\n",
    "#    Outputs: Maximum differences between both '''\n",
    "#def CC(k_0, k_1):\n",
    "#    return np.nanmax()\n",
    "\n",
    "V_0 = np.ones((n_A, n_k[C]))\n",
    "V_1 = np.copy(V_0)\n",
    "h_1 = np.ones((n_A, n_k[C]), dtype=int)\n",
    "iter = 0\n",
    "max_iter = 1000\n",
    "\n",
    "while iter < max_iter:\n",
    "    for r in range(n_A):\n",
    "        for c in range(n_k[C]):\n",
    "            V_1[r,c] = np.amax(U( A[r] * K[c]**α + (1-δ) * K[c] - K) + β * Π[r,:] @ V_0)\n",
    "            h_1[r,c] = np.argmax(U( A[r] * K[c]**α + (1-δ) * K[c] - K) + β * Π[r,:] @ V_0)\n",
    "    if np.amax(np.abs(V_1 - V_0))< error:\n",
    "        print(\"Solution Found\")\n",
    "        print(f'Iterations', iter)\n",
    "        print(f'Error', np.amax(np.abs(V_1 - V_0)))\n",
    "        break\n",
    "    else:\n",
    "        V_0 = np.copy(V_1)\n",
    "        iter += 1\n",
    "        if iter >= max_iter:\n",
    "            print(\"No solution\")\n",
    "\n",
    "VNSS = V_1.copy()\n",
    "h_NSS = h_1.copy()\n",
    "VNSS, h_NSS, K[h_NSS]"
   ]
  },
  {
   "cell_type": "code",
   "execution_count": 3,
   "metadata": {},
   "outputs": [
    {
     "data": {
      "image/png": "[encoded data removed]",
      "text/plain": [
       "<Figure size 720x720 with 2 Axes>"
      ]
     },
     "metadata": {
      "needs_background": "light"
     },
     "output_type": "display_data"
    }
   ],
   "source": [
    "fig, ax  = plt.subplots(2, figsize=(10,10))\n",
    "ax[0].scatter(K, V_1[3,:], label=\"Value Function Given A\")\n",
    "ax[0].scatter(K, V_1[10,:], label=\"Value Function Given A\")\n",
    "ax[1].scatter(K, K[h_1[3,:]], label=\"Value Function Given A\")\n",
    "ax[1].scatter(K, K[h_1[10,:]], label=\"Value Function Given A\")\n",
    "ax[1].plot(K, K, label=\"Value Function Given A\")\n",
    "#plt.title(\"OSD abs error - 2SD abs error\")\n",
    "plt.legend()\n",
    "plt.show()\n"
   ]
  },
  {
   "cell_type": "code",
   "execution_count": 5,
   "metadata": {},
   "outputs": [
    {
     "name": "stdout",
     "output_type": "stream",
     "text": [
      "0\n",
      "0.08162039205454284\n",
      "1\n",
      "0.018762320505319518\n",
      "2\n",
      "0.010760732388406132\n",
      "3\n",
      "0.005711439811166493\n",
      "4\n",
      "0.0026609074389167546\n",
      "5\n",
      "0.0017183978041000383\n",
      "6\n",
      "0.0010768666589644252\n",
      "7\n",
      "0.0006512742991639028\n",
      "8\n",
      "0.00039141294732008685\n",
      "9\n",
      "0.0002352082727341135\n",
      "10\n",
      "0.0001416254324553732\n",
      "11\n",
      "8.540856865376472e-05\n",
      "12\n",
      "5.1581479825590854e-05\n",
      "13\n",
      "3.118955267602383e-05\n",
      "14\n",
      "1.8877195857479868e-05\n",
      "15\n",
      "1.1433750540321416e-05\n",
      "Solution Found\n"
     ]
    }
   ],
   "source": [
    "#Interpolation Economy:\n",
    "\n",
    "#Construct the expanding grid.\n",
    "\n",
    "σ = 0.01 # Volatility of income.\n",
    "# Construct the markov chain using rouwenhorst method:\n",
    "markov = qe.markov.approximation.rouwenhorst(n= n_A, ybar = 1-ρ, sigma=σ, rho= ρ)\n",
    "# Probability matrix and states:\n",
    "# note that element (i,j) of P represents the transition probability\n",
    "# of going to state \"j\" given that we are in state \"i\".\n",
    "Π = markov.P   \n",
    "A = markov.state_values  \n",
    "#Now initiliaze the new code at the NSS:\n",
    "\n",
    "V_0 = VNSS.copy()\n",
    "h_0 = K[h_NSS.copy()]\n",
    "h_int = np.zeros((n_A, n_k[C]), dtype=float)\n",
    "V_1 = np.zeros((n_A, n_k[C]))\n",
    "iter = 0\n",
    "# First Loop:\n",
    "# From V_0, k_0, get V_1, k_1:\n",
    "\n",
    "while iter < max_iter:\n",
    "    for r in range(n_A):\n",
    "        for c in range(n_k[C]):\n",
    "            # First Obtain the interporaled expected value of V, given A today:\n",
    "            # We have the array for different values for capital, we just need \n",
    "            # to get the array of expected values for the value function given\n",
    "            # the choice for today.\n",
    "            E_V = CubicSpline(K, Π[r,:] @ V_0 , bc_type=\"natural\")\n",
    "            def FOC(kp):\n",
    "                Δ = 10e-5\n",
    "                def Return_f(kp):\n",
    "                    if ( A[r] * K[c]**α + (1-δ) * K[c] - kp) <= 0:\n",
    "                        return np.nan\n",
    "                    return U( A[r] * K[c]**α + (1-δ) * K[c] - kp) + β * E_V(kp)\n",
    "                Return_f = np.vectorize(Return_f)\n",
    "                if np.isnan(Return_f(kp + Δ)):\n",
    "                    return -100\n",
    "                if np.isnan(Return_f(kp - Δ)):\n",
    "                    return -100\n",
    "                return (Return_f(kp + Δ) - Return_f(kp - Δ)) / ( 2 * Δ )\n",
    "            FOC = np.vectorize(FOC)    \n",
    "            #h_1[r,c] = scipy.optimize.brentq(FOC, K_min, K_max, args=(), xtol=2e-12, rtol=error, maxiter=100, full_output=False, disp=True)\n",
    "            h_int[r,c] = scipy.optimize.newton(FOC, K_min, fprime=None, args=(), tol=error, maxiter=10000, fprime2=None, x1=None, rtol=0.0, full_output=False, disp=True)\n",
    "            V_1[r,c] = U( A[r] * K[c]**α + (1-δ) * K[c] - h_int[r,c]) + β * E_V(h_int[r,c])\n",
    "    if np.amax((h_int - h_0)/(1 + np.abs(h_0)))< error:\n",
    "        print(\"Solution Found\")\n",
    "        break\n",
    "    else:\n",
    "        print(iter)\n",
    "        print(np.amax((h_int - h_0)/(1 + np.abs(h_0))))\n",
    "        iter += 1\n",
    "        V_0 = V_1.copy()\n",
    "        h_0 = h_int.copy()\n",
    "        "
   ]
  },
  {
   "cell_type": "code",
   "execution_count": 35,
   "metadata": {},
   "outputs": [
    {
     "ename": "RuntimeError",
     "evalue": "Failed to converge after 10000 iterations, value is nan.",
     "output_type": "error",
     "traceback": [
      "\u001b[1;31m---------------------------------------------------------------------------\u001b[0m",
      "\u001b[1;31mRuntimeError\u001b[0m                              Traceback (most recent call last)",
      "\u001b[1;32mc:\\Users\\Hogar\\Dropbox\\PC\\Documents\\UMN\\Quant\\Mini_II\\PS3\\PS3.ipynb Cell 36\u001b[0m in \u001b[0;36m<cell line: 1>\u001b[1;34m()\u001b[0m\n\u001b[1;32m----> <a href='vscode-notebook-cell:/c%3A/Users/Hogar/Dropbox/PC/Documents/UMN/Quant/Mini_II/PS3/PS3.ipynb#Y104sZmlsZQ%3D%3D?line=0'>1</a>\u001b[0m h_int[r,c] \u001b[39m=\u001b[39m scipy\u001b[39m.\u001b[39;49moptimize\u001b[39m.\u001b[39;49mnewton(FOC, K_min, fprime\u001b[39m=\u001b[39;49m\u001b[39mNone\u001b[39;49;00m, args\u001b[39m=\u001b[39;49m(), tol\u001b[39m=\u001b[39;49merror, maxiter\u001b[39m=\u001b[39;49m\u001b[39m10000\u001b[39;49m, fprime2\u001b[39m=\u001b[39;49m\u001b[39mNone\u001b[39;49;00m, x1\u001b[39m=\u001b[39;49m\u001b[39mNone\u001b[39;49;00m, rtol\u001b[39m=\u001b[39;49m\u001b[39m0.0\u001b[39;49m, full_output\u001b[39m=\u001b[39;49m\u001b[39mFalse\u001b[39;49;00m, disp\u001b[39m=\u001b[39;49m\u001b[39mTrue\u001b[39;49;00m)\n\u001b[0;32m      <a href='vscode-notebook-cell:/c%3A/Users/Hogar/Dropbox/PC/Documents/UMN/Quant/Mini_II/PS3/PS3.ipynb#Y104sZmlsZQ%3D%3D?line=1'>2</a>\u001b[0m V_1[r,c] \u001b[39m=\u001b[39m U( A[r] \u001b[39m*\u001b[39m K[c]\u001b[39m*\u001b[39m\u001b[39m*\u001b[39mα \u001b[39m+\u001b[39m (\u001b[39m1\u001b[39m\u001b[39m-\u001b[39mδ) \u001b[39m*\u001b[39m K[c] \u001b[39m-\u001b[39m h_int[r,c]) \u001b[39m+\u001b[39m β \u001b[39m*\u001b[39m E_V(h_int[r,c])\n",
      "File \u001b[1;32mc:\\Users\\Hogar\\anaconda3\\lib\\site-packages\\scipy\\optimize\\zeros.py:361\u001b[0m, in \u001b[0;36mnewton\u001b[1;34m(func, x0, fprime, args, tol, maxiter, fprime2, x1, rtol, full_output, disp)\u001b[0m\n\u001b[0;32m    358\u001b[0m \u001b[39mif\u001b[39;00m disp:\n\u001b[0;32m    359\u001b[0m     msg \u001b[39m=\u001b[39m (\u001b[39m\"\u001b[39m\u001b[39mFailed to converge after \u001b[39m\u001b[39m%d\u001b[39;00m\u001b[39m iterations, value is \u001b[39m\u001b[39m%s\u001b[39;00m\u001b[39m.\u001b[39m\u001b[39m\"\u001b[39m\n\u001b[0;32m    360\u001b[0m            \u001b[39m%\u001b[39m (itr \u001b[39m+\u001b[39m \u001b[39m1\u001b[39m, p))\n\u001b[1;32m--> 361\u001b[0m     \u001b[39mraise\u001b[39;00m \u001b[39mRuntimeError\u001b[39;00m(msg)\n\u001b[0;32m    363\u001b[0m \u001b[39mreturn\u001b[39;00m _results_select(full_output, (p, funcalls, itr \u001b[39m+\u001b[39m \u001b[39m1\u001b[39m, _ECONVERR))\n",
      "\u001b[1;31mRuntimeError\u001b[0m: Failed to converge after 10000 iterations, value is nan."
     ]
    }
   ],
   "source": [
    "h_int[r,c] = scipy.optimize.newton(FOC, K_min, fprime=None, args=(), tol=error, maxiter=10000, fprime2=None, x1=None, rtol=0.0, full_output=False, disp=True)\n",
    "V_1[r,c] = U( A[r] * K[c]**α + (1-δ) * K[c] - h_int[r,c]) + β * E_V(h_int[r,c])"
   ]
  },
  {
   "cell_type": "code",
   "execution_count": 6,
   "metadata": {},
   "outputs": [
    {
     "data": {
      "text/plain": [
       "array([[0.16192023, 0.16220536, 0.16305894, 0.16447564, 0.16644711,\n",
       "        0.16896206, 0.1720055 , 0.17556224, 0.17961313, 0.18414045,\n",
       "        0.18912255, 0.19454018, 0.20037314, 0.20659967, 0.21320212,\n",
       "        0.22015985, 0.22745424, 0.23507032, 0.24298873, 0.25119472,\n",
       "        0.2596752 , 0.26841341, 0.27739952, 0.28662014, 0.29606192,\n",
       "        0.30571917, 0.3155782 , 0.32563137, 0.33587092, 0.34628561,\n",
       "        0.35687399, 0.36762333, 0.37853117, 0.38959007, 0.40079335,\n",
       "        0.41214023, 0.42361902, 0.4352316 , 0.4469678 , 0.45883052,\n",
       "        0.47080918, 0.48290568, 0.49511208, 0.50742914, 0.51985166,\n",
       "        0.53237815, 0.5450038 , 0.55772779, 0.57054814, 0.58346256,\n",
       "        0.59646699, 0.60956148, 0.62274289, 0.63601189, 0.64936196,\n",
       "        0.66279647, 0.67630854, 0.68990341],\n",
       "       [0.16830211, 0.16859883, 0.16948708, 0.17096135, 0.17301297,\n",
       "        0.1756303 , 0.17879762, 0.18249928, 0.18671518, 0.19142684,\n",
       "        0.19661183, 0.20225103, 0.20832103, 0.21480196, 0.22167407,\n",
       "        0.22891522, 0.23650902, 0.24443561, 0.25267685, 0.26121987,\n",
       "        0.27004622, 0.27914204, 0.28849612, 0.29809245, 0.30792291,\n",
       "        0.31797474, 0.3282358 , 0.3387017 , 0.34935882, 0.36020211,\n",
       "        0.37122264, 0.38241118, 0.39376668, 0.40527618, 0.41693974,\n",
       "        0.42874763, 0.44069732, 0.45278474, 0.46500164, 0.47734811,\n",
       "        0.48981527, 0.50240665, 0.51511064, 0.52793124, 0.54085856,\n",
       "        0.55389683, 0.56703652, 0.58028119, 0.59362161, 0.60706195,\n",
       "        0.62059485, 0.63422415, 0.64794009, 0.66174773, 0.67563987,\n",
       "        0.6896218 , 0.70368263, 0.71782847],\n",
       "       [0.17471385, 0.17502228, 0.17594559, 0.17747794, 0.17961019,\n",
       "        0.18233044, 0.18562247, 0.18946953, 0.19385218, 0.19874919,\n",
       "        0.20413912, 0.21000053, 0.21630989, 0.22304783, 0.23019018,\n",
       "        0.23771803, 0.24561226, 0.25385135, 0.26242055, 0.27130093,\n",
       "        0.28047563, 0.28993357, 0.29965694, 0.30963397, 0.3198542 ,\n",
       "        0.33030262, 0.34097321, 0.35185284, 0.36293166, 0.37420562,\n",
       "        0.38566128, 0.39729629, 0.40909991, 0.42106611, 0.43319254,\n",
       "        0.44546745, 0.45789189, 0.47045493, 0.48315784, 0.49599208,\n",
       "        0.50895528, 0.52204296, 0.53525019, 0.54857804, 0.56201719,\n",
       "        0.57557019, 0.58922857, 0.60299694, 0.61686459, 0.63083631,\n",
       "        0.6449025 , 0.65906869, 0.67332559, 0.68767887, 0.70211803,\n",
       "        0.71664876, 0.73126322, 0.74596735],\n",
       "       [0.18115364, 0.18147385, 0.18243244, 0.18402329, 0.18623676,\n",
       "        0.18906049, 0.19247881, 0.19647212, 0.20102219, 0.20610555,\n",
       "        0.21170234, 0.21778684, 0.22433847, 0.23133339, 0.23874917,\n",
       "        0.24656645, 0.25476136, 0.2633171 , 0.27221495, 0.28143474,\n",
       "        0.29096363, 0.30078338, 0.31087925, 0.32124134, 0.33185231,\n",
       "        0.34270333, 0.35378367, 0.3650798 , 0.37658742, 0.38829265,\n",
       "        0.40018909, 0.41227142, 0.42452744, 0.43695631, 0.44954587,\n",
       "        0.4622944 , 0.4751959 , 0.48824229, 0.50143302, 0.51475831,\n",
       "        0.528221  , 0.54180965, 0.55552659, 0.56936299, 0.58331959,\n",
       "        0.59739161, 0.61157586, 0.62587221, 0.64026943, 0.65477638,\n",
       "        0.66938305, 0.68409075, 0.69889354, 0.71379481, 0.72878719,\n",
       "        0.74387354, 0.75904726, 0.77431107],\n",
       "       [0.18762026, 0.18795221, 0.18894607, 0.19059594, 0.19289134,\n",
       "        0.19581898, 0.1993637 , 0.20350522, 0.20822311, 0.21349538,\n",
       "        0.21929842, 0.22560874, 0.23240363, 0.23965719, 0.24734933,\n",
       "        0.25545535, 0.26395562, 0.27283019, 0.28205674, 0.29162088,\n",
       "        0.30150418, 0.31168854, 0.32216259, 0.33290873, 0.34391524,\n",
       "        0.35517223, 0.36666333, 0.37838253, 0.39031832, 0.40245951,\n",
       "        0.41480213, 0.42733222, 0.44004709, 0.45293888, 0.46599829,\n",
       "        0.47922372, 0.49260358, 0.50613894, 0.51982005, 0.53364449,\n",
       "        0.54760728, 0.56170241, 0.57593141, 0.59028318, 0.60476085,\n",
       "        0.61935475, 0.63406886, 0.64889366, 0.66383201, 0.67887564,\n",
       "        0.69402683, 0.70928068, 0.72463693, 0.7400899 , 0.75564012,\n",
       "        0.77128539, 0.78702453, 0.80285342],\n",
       "       [0.1941124 , 0.1944562 , 0.19548549, 0.19719413, 0.19957236,\n",
       "        0.20260532, 0.20627611, 0.2105667 , 0.21545342, 0.22091578,\n",
       "        0.22692693, 0.23346491, 0.24050241, 0.24801847, 0.25598692,\n",
       "        0.26438531, 0.27319268, 0.28238533, 0.29194678, 0.3018564 ,\n",
       "        0.3120945 , 0.32264861, 0.33350054, 0.34463531, 0.35604175,\n",
       "        0.36770331, 0.37961183, 0.39175611, 0.4041219 , 0.4167049 ,\n",
       "        0.42949279, 0.442478  , 0.45565471, 0.46901064, 0.48254523,\n",
       "        0.49624823, 0.51011507, 0.52414048, 0.53831588, 0.55264276,\n",
       "        0.56710956, 0.581718  , 0.59645898, 0.6113319 , 0.62633365,\n",
       "        0.64145744, 0.65670332, 0.67206395, 0.68754328, 0.70313086,\n",
       "        0.71883112, 0.73463463, 0.75054631, 0.76655712, 0.78267157,\n",
       "        0.79888016, 0.81518766, 0.83158707],\n",
       "       [0.20062857, 0.20098436, 0.20204947, 0.20381732, 0.20627751,\n",
       "        0.20941662, 0.21321569, 0.21765476, 0.22271289, 0.22836401,\n",
       "        0.23458617, 0.24135115, 0.24863615, 0.25641408, 0.26466052,\n",
       "        0.27335398, 0.28246812, 0.29198441, 0.30188075, 0.31213603,\n",
       "        0.32273593, 0.33365969, 0.34489121, 0.35641874, 0.3682245 ,\n",
       "        0.38029764, 0.39262575, 0.40519423, 0.41799766, 0.43102325,\n",
       "        0.44426015, 0.45770397, 0.47134216, 0.48517141, 0.49918237,\n",
       "        0.51336635, 0.52772272, 0.54224008, 0.55691825, 0.57174778,\n",
       "        0.58672465, 0.60184798, 0.61710761, 0.63250578, 0.64803238,\n",
       "        0.66369041, 0.6794716 , 0.69537595, 0.71139775, 0.72753464,\n",
       "        0.74378683, 0.7601472 , 0.7766175 , 0.79319088, 0.80987165,\n",
       "        0.82665026, 0.84353124, 0.86050603],\n",
       "       [0.20716649, 0.20753434, 0.20863575, 0.21046385, 0.21300722,\n",
       "        0.21625134, 0.22017946, 0.22476896, 0.22999762, 0.23584136,\n",
       "        0.24227316, 0.24926822, 0.25680017, 0.26484186, 0.27337015,\n",
       "        0.28235707, 0.29178257, 0.30162302, 0.31185504, 0.32246201,\n",
       "        0.33342206, 0.34471776, 0.35633523, 0.3682545 , 0.38046374,\n",
       "        0.39295041, 0.40569803, 0.41869916, 0.4319402 , 0.44540931,\n",
       "        0.45910214, 0.47300472, 0.48711073, 0.50141373, 0.51590248,\n",
       "        0.53057598, 0.54542239, 0.5604376 , 0.57561851, 0.59095493,\n",
       "        0.60644803, 0.62208656, 0.63787114, 0.65379613, 0.66985603,\n",
       "        0.68605008, 0.7023704 , 0.71882046, 0.7353897 , 0.75208171,\n",
       "        0.76888752, 0.78580977, 0.80284261, 0.81998553, 0.83723441,\n",
       "        0.85458763, 0.87204564, 0.88960266],\n",
       "       [0.21372596, 0.2141058 , 0.215243  , 0.21713079, 0.21975853,\n",
       "        0.22310998, 0.22716611, 0.23190731, 0.23730773, 0.24334382,\n",
       "        0.24998786, 0.25721397, 0.2649932 , 0.27330165, 0.28210992,\n",
       "        0.29139608, 0.3011334 , 0.31129779, 0.32187073, 0.3328283 ,\n",
       "        0.34415173, 0.35582409, 0.36782496, 0.38014132, 0.39275797,\n",
       "        0.40565719, 0.41883047, 0.43226431, 0.44594453, 0.45986518,\n",
       "        0.4740123 , 0.48837765, 0.50295589, 0.51773327, 0.53270724,\n",
       "        0.54786891, 0.5632098 , 0.57872855, 0.59441292, 0.61026287,\n",
       "        0.62627163, 0.6424326 , 0.65874488, 0.67519864, 0.69179647,\n",
       "        0.70852896, 0.72539642, 0.74239294, 0.75951521, 0.77676417,\n",
       "        0.79413067, 0.81161761, 0.82921655, 0.84693203, 0.86475471,\n",
       "        0.88268847, 0.90072509, 0.91886783],\n",
       "       [0.22030613, 0.22069818, 0.22187191, 0.2238199 , 0.22653059,\n",
       "        0.2299891 , 0.23417623, 0.239068  , 0.24464256, 0.25087104,\n",
       "        0.25772892, 0.26518566, 0.27321658, 0.2817902 , 0.29088313,\n",
       "        0.30046723, 0.3105172 , 0.32101161, 0.33192379, 0.34323482,\n",
       "        0.35492522, 0.36697275, 0.37936315, 0.3920784 , 0.4051007 ,\n",
       "        0.41842007, 0.4320203 , 0.44588683, 0.4600127 , 0.47438393,\n",
       "        0.48898978, 0.50382355, 0.51887194, 0.53413072, 0.54959177,\n",
       "        0.5652437 , 0.58108522, 0.59710601, 0.6133017 , 0.6296677 ,\n",
       "        0.64619411, 0.66288221, 0.67972269, 0.69671404, 0.71385055,\n",
       "        0.73112626, 0.74854301, 0.76609056, 0.78377186, 0.80157793,\n",
       "        0.8195104 , 0.83756506, 0.85573784, 0.87402763, 0.89242902,\n",
       "        0.91094548, 0.92956784, 0.94830031],\n",
       "       [0.22690522, 0.2273094 , 0.22851952, 0.23052857, 0.23332438,\n",
       "        0.23688991, 0.24120634, 0.24625188, 0.25199877, 0.25842326,\n",
       "        0.26549377, 0.27318505, 0.28146449, 0.29030876, 0.29968572,\n",
       "        0.30956971, 0.31993621, 0.33075761, 0.34201396, 0.35368162,\n",
       "        0.3657373 , 0.37816553, 0.39094623, 0.40406023, 0.41749552,\n",
       "        0.43123421, 0.44526167, 0.45956907, 0.47414   , 0.48896378,\n",
       "        0.50403312, 0.51933411, 0.53486037, 0.55060273, 0.56654993,\n",
       "        0.58270007, 0.59904264, 0.61557004, 0.63227986, 0.64916169,\n",
       "        0.66621496, 0.68343113, 0.70080429, 0.71833459, 0.73601224,\n",
       "        0.75383889, 0.77180524, 0.78991   , 0.80815157, 0.8265221 ,\n",
       "        0.84502371, 0.86364765, 0.88239768, 0.90126553, 0.92025282,\n",
       "        0.93935348, 0.95856672, 0.97789203],\n",
       "       [0.23352332, 0.23393977, 0.2351865 , 0.23725586, 0.24013577,\n",
       "        0.24381056, 0.24825824, 0.25345548, 0.25937835, 0.26599612,\n",
       "        0.27328349, 0.28120716, 0.28974122, 0.29885308, 0.30851628,\n",
       "        0.31870336, 0.32938477, 0.34053885, 0.35213914, 0.3641622 ,\n",
       "        0.37659009, 0.38939902, 0.40257009, 0.41608895, 0.42993608,\n",
       "        0.4440963 , 0.45855767, 0.47330336, 0.48832259, 0.50360564,\n",
       "        0.51913706, 0.53491021, 0.55091606, 0.5671419 , 0.58358423,\n",
       "        0.60023216, 0.61707725, 0.63411781, 0.65134193, 0.66874657,\n",
       "        0.68632644, 0.70407275, 0.72198628, 0.74005625, 0.75828136,\n",
       "        0.77665844, 0.79517956, 0.81384646, 0.83264912, 0.85158967,\n",
       "        0.87066224, 0.88986364, 0.90919248, 0.92864265, 0.94821757,\n",
       "        0.96790763, 0.98771668, 1.00763661],\n",
       "       [0.24015754, 0.24058629, 0.24187003, 0.24400127, 0.24696656,\n",
       "        0.25074873, 0.25532813, 0.26068041, 0.26677713, 0.27359267,\n",
       "        0.28109395, 0.28925441, 0.2980402 , 0.30742405, 0.31737502,\n",
       "        0.32786339, 0.33886514, 0.3503508 , 0.36229675, 0.37468078,\n",
       "        0.3874778 , 0.40066961, 0.41423743, 0.42815931, 0.44242106,\n",
       "        0.45700757, 0.47190084, 0.48709001, 0.5025618 , 0.51830127,\n",
       "        0.5343012 , 0.55055006, 0.56703459, 0.58375062, 0.6006878 ,\n",
       "        0.61783563, 0.63519117, 0.65274305, 0.6704863 , 0.68841738,\n",
       "        0.70652492, 0.72480868, 0.74326107, 0.76187608, 0.78065319,\n",
       "        0.79958193, 0.81866383, 0.83789263, 0.85726389, 0.87677663,\n",
       "        0.89642278, 0.91620544, 0.93611593, 0.9561557 , 0.97631897,\n",
       "        0.99660376, 1.01701084, 1.03753221],\n",
       "       [0.24680986, 0.24725091, 0.24857132, 0.25076308, 0.25381353,\n",
       "        0.25770591, 0.26241678, 0.2679224 , 0.27419671, 0.28120755,\n",
       "        0.28892779, 0.29732258, 0.30636406, 0.31601915, 0.32625803,\n",
       "        0.33705302, 0.34837238, 0.3601927 , 0.37248758, 0.3852304 ,\n",
       "        0.39840209, 0.41197944, 0.42594064, 0.44027099, 0.45495108,\n",
       "        0.46996126, 0.48529255, 0.50092727, 0.51685034, 0.53305356,\n",
       "        0.54952305, 0.56624616, 0.58321757, 0.60042467, 0.61785704,\n",
       "        0.63551117, 0.65337606, 0.6714444 , 0.6897118 , 0.7081675 ,\n",
       "        0.72680994, 0.7456326 , 0.76462651, 0.78379187, 0.80311984,\n",
       "        0.82260827, 0.84225306, 0.86204625, 0.8819899 , 0.90207579,\n",
       "        0.9223038 , 0.94266856, 0.96316553, 0.98379676, 1.00455322,\n",
       "        1.02543811, 1.04644342, 1.06757105],\n",
       "       [0.25347596, 0.25392947, 0.25528738, 0.25754162, 0.26067801,\n",
       "        0.26467856, 0.26952259, 0.27518386, 0.28163322, 0.28884328,\n",
       "        0.29677942, 0.30541323, 0.3147091 , 0.32463759, 0.33516716,\n",
       "        0.3462658 , 0.35790829, 0.37006396, 0.38270639, 0.39581359,\n",
       "        0.40935955, 0.42332227, 0.43768378, 0.45242199, 0.46751897,\n",
       "        0.48296133, 0.49873008, 0.51480977, 0.53119063, 0.54785739,\n",
       "        0.56479698, 0.58200209, 0.5994591 , 0.61715802, 0.63509382,\n",
       "        0.65325359, 0.67163023, 0.69021935, 0.70900985, 0.72799817,\n",
       "        0.7471773 , 0.76653834, 0.78608132, 0.80579752, 0.82568133,\n",
       "        0.84573155, 0.86593942, 0.88630565, 0.90682283, 0.92748644,\n",
       "        0.94829726, 0.96924682, 0.99033734, 1.01156064, 1.03291595,\n",
       "        1.05440235, 1.07601287, 1.09775002]])"
      ]
     },
     "execution_count": 6,
     "metadata": {},
     "output_type": "execute_result"
    }
   ],
   "source": [
    "h_0"
   ]
  },
  {
   "cell_type": "code",
   "execution_count": null,
   "metadata": {},
   "outputs": [],
   "source": [
    "E_V = CubicSpline(K, Π[r,:] @ V_0 , bc_type=\"natural\")\n",
    "            def FOC(kp):\n",
    "                Δ = 10e-5\n",
    "                def Return_f(kp):\n",
    "                    if ( A[r] * K[c]**α + (1-δ) * K[c] - kp) <= 0:\n",
    "                        return np.nan\n",
    "                    return U( A[r] * K[c]**α + (1-δ) * K[c] - kp) + β * E_V(kp)\n",
    "                Return_f = np.vectorize(Return_f)\n",
    "                return (Return_f(kp + Δ) - Return_f(kp - Δ)) / ( 2 * Δ )\n",
    "            #h_1[r,c] = scipy.optimize.brentq(Equation, K_min, K_max, args=(), xtol=2e-12, rtol=error, maxiter=100, full_output=False, disp=True)\n",
    "            h_int[r,c] = scipy.optimize.newton(FOC, K_min, fprime=None, args=(), tol=error, maxiter=10000, fprime2=None, x1=None, rtol=0.0, full_output=False, disp=True)"
   ]
  },
  {
   "cell_type": "code",
   "execution_count": 59,
   "metadata": {},
   "outputs": [
    {
     "data": {
      "image/png": "[encoded data removed]",
      "text/plain": [
       "<Figure size 432x288 with 1 Axes>"
      ]
     },
     "metadata": {
      "needs_background": "light"
     },
     "output_type": "display_data"
    }
   ],
   "source": [
    "r = 0\n",
    "c = 0\n",
    "E_V = CubicSpline(K, Π[r,:] @ V_0 , bc_type=\"natural\")\n",
    "def FOC(kp):\n",
    "    Δ = 10e-5\n",
    "    def Return_f(kp):\n",
    "        if ( A[r] * K[c]**α + (1-δ) * K[c] - kp) <= 0:\n",
    "            return np.nan\n",
    "        return U( A[r] * K[c]**α + (1-δ) * K[c] - kp) + β * E_V(kp)\n",
    "    Return_f = np.vectorize(Return_f)\n",
    "    if np.isnan(Return_f(kp + Δ)):\n",
    "        return -100\n",
    "    if np.isnan(Return_f(kp - Δ)):\n",
    "        return -100\n",
    "    return (Return_f(kp + Δ) - Return_f(kp - Δ)) / ( 2 * Δ )\n",
    "FOC = np.vectorize(FOC)\n",
    "fig, ax  = plt.subplots()\n",
    "ax.scatter(K, FOC(K))\n",
    "plt.show()"
   ]
  },
  {
   "cell_type": "code",
   "execution_count": 7,
   "metadata": {},
   "outputs": [
    {
     "data": {
      "image/png": "[encoded data removed]",
      "text/plain": [
       "<Figure size 720x720 with 2 Axes>"
      ]
     },
     "metadata": {
      "needs_background": "light"
     },
     "output_type": "display_data"
    }
   ],
   "source": [
    "fig, ax  = plt.subplots(2, figsize=(10,10))\n",
    "ax[0].scatter(K, V_1[3,:], label=\"Value Function Given A\")\n",
    "ax[0].scatter(K, V_1[10,:], label=\"Value Function Given A\")\n",
    "ax[1].scatter(K, h_int[3,:], label=\"Value Function Given A\")\n",
    "ax[1].scatter(K, h_int[10,:], label=\"Value Function Given A\")\n",
    "ax[1].plot(K, K, label=\"Value Function Given A\")\n",
    "#plt.title(\"OSD abs error - 2SD abs error\")\n",
    "plt.legend()\n",
    "plt.show()"
   ]
  }
 ],
 "metadata": {
  "kernelspec": {
   "display_name": "Python 3.9.12 ('base')",
   "language": "python",
   "name": "python3"
  },
  "language_info": {
   "codemirror_mode": {
    "name": "ipython",
    "version": 3
   },
   "file_extension": ".py",
   "mimetype": "text/x-python",
   "name": "python",
   "nbconvert_exporter": "python",
   "pygments_lexer": "ipython3",
   "version": "3.9.12"
  },
  "orig_nbformat": 4,
  "vscode": {
   "interpreter": {
    "hash": "b69a4b02e7947e52e6ad2ba4161a8d75302f9e0e4230d8a535486fa2ac92da57"
   }
  }
 },
 "nbformat": 4,
 "nbformat_minor": 2
}
